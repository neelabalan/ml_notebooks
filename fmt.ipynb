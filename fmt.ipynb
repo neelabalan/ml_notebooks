{
 "cells": [
  {
   "attachments": {},
   "cell_type": "markdown",
   "metadata": {},
   "source": [
    "# Featurisation and model tuning"
   ]
  },
  {
   "attachments": {},
   "cell_type": "markdown",
   "metadata": {},
   "source": [
    "Semiconductor manufacturing process\n",
    "\n",
    "## Data Description\n",
    "\n",
    "> (1567, 592)\n",
    "\n",
    "The data consists of 1567 datapoints each with 591 features. The dataset presented in this case represents a selection of such features where each example represents a single production entity with associated measured features and the labels represent a simple pass/fail yield for in house line testing. Target column \"-1\" corresponds to a pass and \"1\" corresponds to a fail and the data time stamp is for that specific test point."
   ]
  },
  {
   "cell_type": "code",
   "execution_count": 1,
   "metadata": {},
   "outputs": [],
   "source": [
    "import numpy as np\n",
    "import pandas as pd\n",
    "\n",
    "import matplotlib.pyplot as plt\n",
    "import seaborn as sns\n",
    "\n",
    "from imblearn.over_sampling import SMOTE\n",
    "from sklearn.decomposition import PCA\n",
    "\n",
    "from sklearn.metrics import f1_score\n",
    "from sklearn.metrics import classification_report\n",
    "from sklearn.metrics import roc_auc_score\n",
    "from sklearn.metrics import accuracy_score\n",
    "from sklearn.metrics import balanced_accuracy_score\n",
    "\n",
    "from sklearn.feature_selection import SelectFromModel\n",
    "from sklearn.feature_selection import SelectKBest\n",
    "\n",
    "from sklearn.preprocessing import MinMaxScaler\n",
    "from sklearn.preprocessing import StandardScaler\n",
    "\n",
    "from imblearn.pipeline import Pipeline as imbpipeline\n",
    "\n",
    "from sklearn.model_selection import train_test_split\n",
    "from sklearn.model_selection import KFold\n",
    "from sklearn.model_selection import cross_val_score\n",
    "from sklearn.model_selection import StratifiedKFold\n",
    "from sklearn.model_selection import LeaveOneOut\n",
    "from sklearn.model_selection import RandomizedSearchCV\n",
    "from sklearn.model_selection import GridSearchCV\n",
    "\n",
    "from sklearn.ensemble import ExtraTreesClassifier\n",
    "from sklearn.linear_model import LogisticRegression\n",
    "from sklearn.ensemble import AdaBoostClassifier\n",
    "from sklearn.svm import LinearSVC\n",
    "from sklearn.neighbors import KNeighborsClassifier\n",
    "from sklearn.ensemble import RandomForestClassifier\n",
    "\n",
    "sns.set()"
   ]
  },
  {
   "cell_type": "code",
   "execution_count": 2,
   "metadata": {},
   "outputs": [],
   "source": [
    "import warnings\n",
    "\n",
    "warnings.filterwarnings(\"ignore\")"
   ]
  },
  {
   "attachments": {},
   "cell_type": "markdown",
   "metadata": {},
   "source": [
    "### Import and understand the data"
   ]
  },
  {
   "cell_type": "code",
   "execution_count": 3,
   "metadata": {},
   "outputs": [],
   "source": [
    "df = pd.read_csv(\"data/signal-data.csv\")"
   ]
  },
  {
   "cell_type": "code",
   "execution_count": 4,
   "metadata": {},
   "outputs": [
    {
     "data": {
      "text/html": [
       "<div>\n",
       "<style scoped>\n",
       "    .dataframe tbody tr th:only-of-type {\n",
       "        vertical-align: middle;\n",
       "    }\n",
       "\n",
       "    .dataframe tbody tr th {\n",
       "        vertical-align: top;\n",
       "    }\n",
       "\n",
       "    .dataframe thead th {\n",
       "        text-align: right;\n",
       "    }\n",
       "</style>\n",
       "<table border=\"1\" class=\"dataframe\">\n",
       "  <thead>\n",
       "    <tr style=\"text-align: right;\">\n",
       "      <th></th>\n",
       "      <th>Time</th>\n",
       "      <th>0</th>\n",
       "      <th>1</th>\n",
       "      <th>2</th>\n",
       "      <th>3</th>\n",
       "      <th>4</th>\n",
       "      <th>5</th>\n",
       "      <th>6</th>\n",
       "      <th>7</th>\n",
       "      <th>8</th>\n",
       "      <th>...</th>\n",
       "      <th>581</th>\n",
       "      <th>582</th>\n",
       "      <th>583</th>\n",
       "      <th>584</th>\n",
       "      <th>585</th>\n",
       "      <th>586</th>\n",
       "      <th>587</th>\n",
       "      <th>588</th>\n",
       "      <th>589</th>\n",
       "      <th>Pass/Fail</th>\n",
       "    </tr>\n",
       "  </thead>\n",
       "  <tbody>\n",
       "    <tr>\n",
       "      <th>0</th>\n",
       "      <td>2008-07-19 11:55:00</td>\n",
       "      <td>3030.93</td>\n",
       "      <td>2564.00</td>\n",
       "      <td>2187.7333</td>\n",
       "      <td>1411.1265</td>\n",
       "      <td>1.3602</td>\n",
       "      <td>100.0</td>\n",
       "      <td>97.6133</td>\n",
       "      <td>0.1242</td>\n",
       "      <td>1.5005</td>\n",
       "      <td>...</td>\n",
       "      <td>NaN</td>\n",
       "      <td>0.5005</td>\n",
       "      <td>0.0118</td>\n",
       "      <td>0.0035</td>\n",
       "      <td>2.3630</td>\n",
       "      <td>NaN</td>\n",
       "      <td>NaN</td>\n",
       "      <td>NaN</td>\n",
       "      <td>NaN</td>\n",
       "      <td>-1</td>\n",
       "    </tr>\n",
       "    <tr>\n",
       "      <th>1</th>\n",
       "      <td>2008-07-19 12:32:00</td>\n",
       "      <td>3095.78</td>\n",
       "      <td>2465.14</td>\n",
       "      <td>2230.4222</td>\n",
       "      <td>1463.6606</td>\n",
       "      <td>0.8294</td>\n",
       "      <td>100.0</td>\n",
       "      <td>102.3433</td>\n",
       "      <td>0.1247</td>\n",
       "      <td>1.4966</td>\n",
       "      <td>...</td>\n",
       "      <td>208.2045</td>\n",
       "      <td>0.5019</td>\n",
       "      <td>0.0223</td>\n",
       "      <td>0.0055</td>\n",
       "      <td>4.4447</td>\n",
       "      <td>0.0096</td>\n",
       "      <td>0.0201</td>\n",
       "      <td>0.0060</td>\n",
       "      <td>208.2045</td>\n",
       "      <td>-1</td>\n",
       "    </tr>\n",
       "    <tr>\n",
       "      <th>2</th>\n",
       "      <td>2008-07-19 13:17:00</td>\n",
       "      <td>2932.61</td>\n",
       "      <td>2559.94</td>\n",
       "      <td>2186.4111</td>\n",
       "      <td>1698.0172</td>\n",
       "      <td>1.5102</td>\n",
       "      <td>100.0</td>\n",
       "      <td>95.4878</td>\n",
       "      <td>0.1241</td>\n",
       "      <td>1.4436</td>\n",
       "      <td>...</td>\n",
       "      <td>82.8602</td>\n",
       "      <td>0.4958</td>\n",
       "      <td>0.0157</td>\n",
       "      <td>0.0039</td>\n",
       "      <td>3.1745</td>\n",
       "      <td>0.0584</td>\n",
       "      <td>0.0484</td>\n",
       "      <td>0.0148</td>\n",
       "      <td>82.8602</td>\n",
       "      <td>1</td>\n",
       "    </tr>\n",
       "    <tr>\n",
       "      <th>3</th>\n",
       "      <td>2008-07-19 14:43:00</td>\n",
       "      <td>2988.72</td>\n",
       "      <td>2479.90</td>\n",
       "      <td>2199.0333</td>\n",
       "      <td>909.7926</td>\n",
       "      <td>1.3204</td>\n",
       "      <td>100.0</td>\n",
       "      <td>104.2367</td>\n",
       "      <td>0.1217</td>\n",
       "      <td>1.4882</td>\n",
       "      <td>...</td>\n",
       "      <td>73.8432</td>\n",
       "      <td>0.4990</td>\n",
       "      <td>0.0103</td>\n",
       "      <td>0.0025</td>\n",
       "      <td>2.0544</td>\n",
       "      <td>0.0202</td>\n",
       "      <td>0.0149</td>\n",
       "      <td>0.0044</td>\n",
       "      <td>73.8432</td>\n",
       "      <td>-1</td>\n",
       "    </tr>\n",
       "    <tr>\n",
       "      <th>4</th>\n",
       "      <td>2008-07-19 15:22:00</td>\n",
       "      <td>3032.24</td>\n",
       "      <td>2502.87</td>\n",
       "      <td>2233.3667</td>\n",
       "      <td>1326.5200</td>\n",
       "      <td>1.5334</td>\n",
       "      <td>100.0</td>\n",
       "      <td>100.3967</td>\n",
       "      <td>0.1235</td>\n",
       "      <td>1.5031</td>\n",
       "      <td>...</td>\n",
       "      <td>NaN</td>\n",
       "      <td>0.4800</td>\n",
       "      <td>0.4766</td>\n",
       "      <td>0.1045</td>\n",
       "      <td>99.3032</td>\n",
       "      <td>0.0202</td>\n",
       "      <td>0.0149</td>\n",
       "      <td>0.0044</td>\n",
       "      <td>73.8432</td>\n",
       "      <td>-1</td>\n",
       "    </tr>\n",
       "  </tbody>\n",
       "</table>\n",
       "<p>5 rows × 592 columns</p>\n",
       "</div>"
      ],
      "text/plain": [
       "                  Time        0        1          2          3       4      5  \\\n",
       "0  2008-07-19 11:55:00  3030.93  2564.00  2187.7333  1411.1265  1.3602  100.0   \n",
       "1  2008-07-19 12:32:00  3095.78  2465.14  2230.4222  1463.6606  0.8294  100.0   \n",
       "2  2008-07-19 13:17:00  2932.61  2559.94  2186.4111  1698.0172  1.5102  100.0   \n",
       "3  2008-07-19 14:43:00  2988.72  2479.90  2199.0333   909.7926  1.3204  100.0   \n",
       "4  2008-07-19 15:22:00  3032.24  2502.87  2233.3667  1326.5200  1.5334  100.0   \n",
       "\n",
       "          6       7       8  ...       581     582     583     584      585  \\\n",
       "0   97.6133  0.1242  1.5005  ...       NaN  0.5005  0.0118  0.0035   2.3630   \n",
       "1  102.3433  0.1247  1.4966  ...  208.2045  0.5019  0.0223  0.0055   4.4447   \n",
       "2   95.4878  0.1241  1.4436  ...   82.8602  0.4958  0.0157  0.0039   3.1745   \n",
       "3  104.2367  0.1217  1.4882  ...   73.8432  0.4990  0.0103  0.0025   2.0544   \n",
       "4  100.3967  0.1235  1.5031  ...       NaN  0.4800  0.4766  0.1045  99.3032   \n",
       "\n",
       "      586     587     588       589  Pass/Fail  \n",
       "0     NaN     NaN     NaN       NaN         -1  \n",
       "1  0.0096  0.0201  0.0060  208.2045         -1  \n",
       "2  0.0584  0.0484  0.0148   82.8602          1  \n",
       "3  0.0202  0.0149  0.0044   73.8432         -1  \n",
       "4  0.0202  0.0149  0.0044   73.8432         -1  \n",
       "\n",
       "[5 rows x 592 columns]"
      ]
     },
     "execution_count": 4,
     "metadata": {},
     "output_type": "execute_result"
    }
   ],
   "source": [
    "df.head()"
   ]
  },
  {
   "cell_type": "code",
   "execution_count": 5,
   "metadata": {},
   "outputs": [
    {
     "data": {
      "text/plain": [
       "(1567, 592)"
      ]
     },
     "execution_count": 5,
     "metadata": {},
     "output_type": "execute_result"
    }
   ],
   "source": [
    "df.shape"
   ]
  },
  {
   "cell_type": "code",
   "execution_count": 6,
   "metadata": {},
   "outputs": [
    {
     "name": "stdout",
     "output_type": "stream",
     "text": [
      "<class 'pandas.core.frame.DataFrame'>\n",
      "RangeIndex: 1567 entries, 0 to 1566\n",
      "Columns: 592 entries, Time to Pass/Fail\n",
      "dtypes: float64(590), int64(1), object(1)\n",
      "memory usage: 7.1+ MB\n"
     ]
    }
   ],
   "source": [
    "df.info()"
   ]
  },
  {
   "cell_type": "code",
   "execution_count": 7,
   "metadata": {},
   "outputs": [
    {
     "data": {
      "text/html": [
       "<div>\n",
       "<style scoped>\n",
       "    .dataframe tbody tr th:only-of-type {\n",
       "        vertical-align: middle;\n",
       "    }\n",
       "\n",
       "    .dataframe tbody tr th {\n",
       "        vertical-align: top;\n",
       "    }\n",
       "\n",
       "    .dataframe thead th {\n",
       "        text-align: right;\n",
       "    }\n",
       "</style>\n",
       "<table border=\"1\" class=\"dataframe\">\n",
       "  <thead>\n",
       "    <tr style=\"text-align: right;\">\n",
       "      <th></th>\n",
       "      <th>count</th>\n",
       "      <th>mean</th>\n",
       "      <th>std</th>\n",
       "      <th>min</th>\n",
       "      <th>25%</th>\n",
       "      <th>50%</th>\n",
       "      <th>75%</th>\n",
       "      <th>max</th>\n",
       "    </tr>\n",
       "  </thead>\n",
       "  <tbody>\n",
       "    <tr>\n",
       "      <th>0</th>\n",
       "      <td>1561.0</td>\n",
       "      <td>3014.452896</td>\n",
       "      <td>73.621787</td>\n",
       "      <td>2743.2400</td>\n",
       "      <td>2966.260000</td>\n",
       "      <td>3011.4900</td>\n",
       "      <td>3056.6500</td>\n",
       "      <td>3356.3500</td>\n",
       "    </tr>\n",
       "    <tr>\n",
       "      <th>1</th>\n",
       "      <td>1560.0</td>\n",
       "      <td>2495.850231</td>\n",
       "      <td>80.407705</td>\n",
       "      <td>2158.7500</td>\n",
       "      <td>2452.247500</td>\n",
       "      <td>2499.4050</td>\n",
       "      <td>2538.8225</td>\n",
       "      <td>2846.4400</td>\n",
       "    </tr>\n",
       "    <tr>\n",
       "      <th>2</th>\n",
       "      <td>1553.0</td>\n",
       "      <td>2200.547318</td>\n",
       "      <td>29.513152</td>\n",
       "      <td>2060.6600</td>\n",
       "      <td>2181.044400</td>\n",
       "      <td>2201.0667</td>\n",
       "      <td>2218.0555</td>\n",
       "      <td>2315.2667</td>\n",
       "    </tr>\n",
       "    <tr>\n",
       "      <th>3</th>\n",
       "      <td>1553.0</td>\n",
       "      <td>1396.376627</td>\n",
       "      <td>441.691640</td>\n",
       "      <td>0.0000</td>\n",
       "      <td>1081.875800</td>\n",
       "      <td>1285.2144</td>\n",
       "      <td>1591.2235</td>\n",
       "      <td>3715.0417</td>\n",
       "    </tr>\n",
       "    <tr>\n",
       "      <th>4</th>\n",
       "      <td>1553.0</td>\n",
       "      <td>4.197013</td>\n",
       "      <td>56.355540</td>\n",
       "      <td>0.6815</td>\n",
       "      <td>1.017700</td>\n",
       "      <td>1.3168</td>\n",
       "      <td>1.5257</td>\n",
       "      <td>1114.5366</td>\n",
       "    </tr>\n",
       "    <tr>\n",
       "      <th>...</th>\n",
       "      <td>...</td>\n",
       "      <td>...</td>\n",
       "      <td>...</td>\n",
       "      <td>...</td>\n",
       "      <td>...</td>\n",
       "      <td>...</td>\n",
       "      <td>...</td>\n",
       "      <td>...</td>\n",
       "    </tr>\n",
       "    <tr>\n",
       "      <th>586</th>\n",
       "      <td>1566.0</td>\n",
       "      <td>0.021458</td>\n",
       "      <td>0.012358</td>\n",
       "      <td>-0.0169</td>\n",
       "      <td>0.013425</td>\n",
       "      <td>0.0205</td>\n",
       "      <td>0.0276</td>\n",
       "      <td>0.1028</td>\n",
       "    </tr>\n",
       "    <tr>\n",
       "      <th>587</th>\n",
       "      <td>1566.0</td>\n",
       "      <td>0.016475</td>\n",
       "      <td>0.008808</td>\n",
       "      <td>0.0032</td>\n",
       "      <td>0.010600</td>\n",
       "      <td>0.0148</td>\n",
       "      <td>0.0203</td>\n",
       "      <td>0.0799</td>\n",
       "    </tr>\n",
       "    <tr>\n",
       "      <th>588</th>\n",
       "      <td>1566.0</td>\n",
       "      <td>0.005283</td>\n",
       "      <td>0.002867</td>\n",
       "      <td>0.0010</td>\n",
       "      <td>0.003300</td>\n",
       "      <td>0.0046</td>\n",
       "      <td>0.0064</td>\n",
       "      <td>0.0286</td>\n",
       "    </tr>\n",
       "    <tr>\n",
       "      <th>589</th>\n",
       "      <td>1566.0</td>\n",
       "      <td>99.670066</td>\n",
       "      <td>93.891919</td>\n",
       "      <td>0.0000</td>\n",
       "      <td>44.368600</td>\n",
       "      <td>71.9005</td>\n",
       "      <td>114.7497</td>\n",
       "      <td>737.3048</td>\n",
       "    </tr>\n",
       "    <tr>\n",
       "      <th>Pass/Fail</th>\n",
       "      <td>1567.0</td>\n",
       "      <td>-0.867262</td>\n",
       "      <td>0.498010</td>\n",
       "      <td>-1.0000</td>\n",
       "      <td>-1.000000</td>\n",
       "      <td>-1.0000</td>\n",
       "      <td>-1.0000</td>\n",
       "      <td>1.0000</td>\n",
       "    </tr>\n",
       "  </tbody>\n",
       "</table>\n",
       "<p>591 rows × 8 columns</p>\n",
       "</div>"
      ],
      "text/plain": [
       "            count         mean         std        min          25%        50%  \\\n",
       "0          1561.0  3014.452896   73.621787  2743.2400  2966.260000  3011.4900   \n",
       "1          1560.0  2495.850231   80.407705  2158.7500  2452.247500  2499.4050   \n",
       "2          1553.0  2200.547318   29.513152  2060.6600  2181.044400  2201.0667   \n",
       "3          1553.0  1396.376627  441.691640     0.0000  1081.875800  1285.2144   \n",
       "4          1553.0     4.197013   56.355540     0.6815     1.017700     1.3168   \n",
       "...           ...          ...         ...        ...          ...        ...   \n",
       "586        1566.0     0.021458    0.012358    -0.0169     0.013425     0.0205   \n",
       "587        1566.0     0.016475    0.008808     0.0032     0.010600     0.0148   \n",
       "588        1566.0     0.005283    0.002867     0.0010     0.003300     0.0046   \n",
       "589        1566.0    99.670066   93.891919     0.0000    44.368600    71.9005   \n",
       "Pass/Fail  1567.0    -0.867262    0.498010    -1.0000    -1.000000    -1.0000   \n",
       "\n",
       "                 75%        max  \n",
       "0          3056.6500  3356.3500  \n",
       "1          2538.8225  2846.4400  \n",
       "2          2218.0555  2315.2667  \n",
       "3          1591.2235  3715.0417  \n",
       "4             1.5257  1114.5366  \n",
       "...              ...        ...  \n",
       "586           0.0276     0.1028  \n",
       "587           0.0203     0.0799  \n",
       "588           0.0064     0.0286  \n",
       "589         114.7497   737.3048  \n",
       "Pass/Fail    -1.0000     1.0000  \n",
       "\n",
       "[591 rows x 8 columns]"
      ]
     },
     "execution_count": 7,
     "metadata": {},
     "output_type": "execute_result"
    }
   ],
   "source": [
    "summary = df.describe().T\n",
    "summary"
   ]
  },
  {
   "cell_type": "code",
   "execution_count": 8,
   "metadata": {},
   "outputs": [
    {
     "data": {
      "text/plain": [
       "-14804.5"
      ]
     },
     "execution_count": 8,
     "metadata": {},
     "output_type": "execute_result"
    }
   ],
   "source": [
    "min(summary[\"min\"])"
   ]
  },
  {
   "cell_type": "code",
   "execution_count": 9,
   "metadata": {},
   "outputs": [
    {
     "data": {
      "text/plain": [
       "37943.0"
      ]
     },
     "execution_count": 9,
     "metadata": {},
     "output_type": "execute_result"
    }
   ],
   "source": [
    "max(summary[\"max\"])"
   ]
  },
  {
   "attachments": {},
   "cell_type": "markdown",
   "metadata": {},
   "source": [
    "Since there are more than 500 features (signal types) we'll take only few signal types for our observations\n",
    "\n",
    "Note: Since the signals aren't labelled. We only have the numbers as labels.\n",
    "\n",
    "- In **signal 0** the range of value is from 2743.24 to 3356.35 but in the case of **signal 3** the range is from 0 to 3715.04\n",
    "- This suggests that the minimum value of the signals aren't starting from 0 and we might not be able to put a bar unless we have more context\n",
    "\t- The minimum of the all the minimum value goes to as much as -14804.5 and maximum of all max values can also go upto 37943.0\n",
    "\n",
    "- It can be observed from **signals 587 and 588** that signal values are also be very minute in the range of 0 to 1"
   ]
  },
  {
   "attachments": {},
   "cell_type": "markdown",
   "metadata": {},
   "source": [
    "### Data cleansing"
   ]
  },
  {
   "cell_type": "code",
   "execution_count": 10,
   "metadata": {},
   "outputs": [],
   "source": [
    "df_len = len(df)\n",
    "result = {\n",
    "    \"column_name\": [],\n",
    "    \"percent_null_value\": [],\n",
    "    \"number_of_null_values\": [],\n",
    "    \"operation\": [],\n",
    "}\n",
    "\n",
    "for column in df.columns:\n",
    "    number_of_null_values = df[column].isnull().sum()\n",
    "    percentage_null_value = (number_of_null_values / df_len) * 100\n",
    "    result[\"column_name\"].append(column)\n",
    "    result[\"percent_null_value\"].append(percentage_null_value)\n",
    "    result[\"number_of_null_values\"].append(number_of_null_values)\n",
    "    operation = \"no operation\"\n",
    "    if percentage_null_value > 20.0:\n",
    "        df.drop(column, axis=1, inplace=True)\n",
    "        operation = \"column_dropped\"\n",
    "    elif number_of_null_values > 0:\n",
    "        df[column].fillna(df[column].mean(), axis=0, inplace=True)\n",
    "        operation = \"imputed with mean\"\n",
    "    else:\n",
    "        pass\n",
    "    result[\"operation\"].append(operation)\n",
    "result_df = pd.DataFrame(result)"
   ]
  },
  {
   "cell_type": "code",
   "execution_count": 11,
   "metadata": {},
   "outputs": [
    {
     "data": {
      "text/html": [
       "<div>\n",
       "<style scoped>\n",
       "    .dataframe tbody tr th:only-of-type {\n",
       "        vertical-align: middle;\n",
       "    }\n",
       "\n",
       "    .dataframe tbody tr th {\n",
       "        vertical-align: top;\n",
       "    }\n",
       "\n",
       "    .dataframe thead th {\n",
       "        text-align: right;\n",
       "    }\n",
       "</style>\n",
       "<table border=\"1\" class=\"dataframe\">\n",
       "  <thead>\n",
       "    <tr style=\"text-align: right;\">\n",
       "      <th></th>\n",
       "      <th>column_name</th>\n",
       "      <th>percent_null_value</th>\n",
       "      <th>number_of_null_values</th>\n",
       "      <th>operation</th>\n",
       "    </tr>\n",
       "  </thead>\n",
       "  <tbody>\n",
       "    <tr>\n",
       "      <th>563</th>\n",
       "      <td>562</td>\n",
       "      <td>17.421825</td>\n",
       "      <td>273</td>\n",
       "      <td>imputed with mean</td>\n",
       "    </tr>\n",
       "    <tr>\n",
       "      <th>176</th>\n",
       "      <td>175</td>\n",
       "      <td>0.063816</td>\n",
       "      <td>1</td>\n",
       "      <td>imputed with mean</td>\n",
       "    </tr>\n",
       "    <tr>\n",
       "      <th>149</th>\n",
       "      <td>148</td>\n",
       "      <td>0.127632</td>\n",
       "      <td>2</td>\n",
       "      <td>imputed with mean</td>\n",
       "    </tr>\n",
       "    <tr>\n",
       "      <th>366</th>\n",
       "      <td>365</td>\n",
       "      <td>0.127632</td>\n",
       "      <td>2</td>\n",
       "      <td>imputed with mean</td>\n",
       "    </tr>\n",
       "    <tr>\n",
       "      <th>588</th>\n",
       "      <td>587</td>\n",
       "      <td>0.063816</td>\n",
       "      <td>1</td>\n",
       "      <td>imputed with mean</td>\n",
       "    </tr>\n",
       "    <tr>\n",
       "      <th>457</th>\n",
       "      <td>456</td>\n",
       "      <td>0.063816</td>\n",
       "      <td>1</td>\n",
       "      <td>imputed with mean</td>\n",
       "    </tr>\n",
       "    <tr>\n",
       "      <th>135</th>\n",
       "      <td>134</td>\n",
       "      <td>0.510530</td>\n",
       "      <td>8</td>\n",
       "      <td>imputed with mean</td>\n",
       "    </tr>\n",
       "    <tr>\n",
       "      <th>582</th>\n",
       "      <td>581</td>\n",
       "      <td>60.561583</td>\n",
       "      <td>949</td>\n",
       "      <td>column_dropped</td>\n",
       "    </tr>\n",
       "    <tr>\n",
       "      <th>520</th>\n",
       "      <td>519</td>\n",
       "      <td>45.628590</td>\n",
       "      <td>715</td>\n",
       "      <td>column_dropped</td>\n",
       "    </tr>\n",
       "    <tr>\n",
       "      <th>178</th>\n",
       "      <td>177</td>\n",
       "      <td>0.063816</td>\n",
       "      <td>1</td>\n",
       "      <td>imputed with mean</td>\n",
       "    </tr>\n",
       "  </tbody>\n",
       "</table>\n",
       "</div>"
      ],
      "text/plain": [
       "    column_name  percent_null_value  number_of_null_values          operation\n",
       "563         562           17.421825                    273  imputed with mean\n",
       "176         175            0.063816                      1  imputed with mean\n",
       "149         148            0.127632                      2  imputed with mean\n",
       "366         365            0.127632                      2  imputed with mean\n",
       "588         587            0.063816                      1  imputed with mean\n",
       "457         456            0.063816                      1  imputed with mean\n",
       "135         134            0.510530                      8  imputed with mean\n",
       "582         581           60.561583                    949     column_dropped\n",
       "520         519           45.628590                    715     column_dropped\n",
       "178         177            0.063816                      1  imputed with mean"
      ]
     },
     "execution_count": 11,
     "metadata": {},
     "output_type": "execute_result"
    }
   ],
   "source": [
    "result_df.sample(10)"
   ]
  },
  {
   "cell_type": "code",
   "execution_count": 12,
   "metadata": {},
   "outputs": [
    {
     "data": {
      "text/html": [
       "<div>\n",
       "<style scoped>\n",
       "    .dataframe tbody tr th:only-of-type {\n",
       "        vertical-align: middle;\n",
       "    }\n",
       "\n",
       "    .dataframe tbody tr th {\n",
       "        vertical-align: top;\n",
       "    }\n",
       "\n",
       "    .dataframe thead th {\n",
       "        text-align: right;\n",
       "    }\n",
       "</style>\n",
       "<table border=\"1\" class=\"dataframe\">\n",
       "  <thead>\n",
       "    <tr style=\"text-align: right;\">\n",
       "      <th></th>\n",
       "      <th>Time</th>\n",
       "      <th>0</th>\n",
       "      <th>1</th>\n",
       "      <th>2</th>\n",
       "      <th>3</th>\n",
       "      <th>4</th>\n",
       "      <th>5</th>\n",
       "      <th>6</th>\n",
       "      <th>7</th>\n",
       "      <th>8</th>\n",
       "      <th>...</th>\n",
       "      <th>577</th>\n",
       "      <th>582</th>\n",
       "      <th>583</th>\n",
       "      <th>584</th>\n",
       "      <th>585</th>\n",
       "      <th>586</th>\n",
       "      <th>587</th>\n",
       "      <th>588</th>\n",
       "      <th>589</th>\n",
       "      <th>Pass/Fail</th>\n",
       "    </tr>\n",
       "  </thead>\n",
       "  <tbody>\n",
       "  </tbody>\n",
       "</table>\n",
       "<p>0 rows × 560 columns</p>\n",
       "</div>"
      ],
      "text/plain": [
       "Empty DataFrame\n",
       "Columns: [Time, 0, 1, 2, 3, 4, 5, 6, 7, 8, 9, 10, 11, 12, 13, 14, 15, 16, 17, 18, 19, 20, 21, 22, 23, 24, 25, 26, 27, 28, 29, 30, 31, 32, 33, 34, 35, 36, 37, 38, 39, 40, 41, 42, 43, 44, 45, 46, 47, 48, 49, 50, 51, 52, 53, 54, 55, 56, 57, 58, 59, 60, 61, 62, 63, 64, 65, 66, 67, 68, 69, 70, 71, 74, 75, 76, 77, 78, 79, 80, 81, 82, 83, 84, 86, 87, 88, 89, 90, 91, 92, 93, 94, 95, 96, 97, 98, 99, 100, 101, ...]\n",
       "Index: []\n",
       "\n",
       "[0 rows x 560 columns]"
      ]
     },
     "execution_count": 12,
     "metadata": {},
     "output_type": "execute_result"
    }
   ],
   "source": [
    "df[df.duplicated()]"
   ]
  },
  {
   "attachments": {},
   "cell_type": "markdown",
   "metadata": {},
   "source": [
    "> Note: Looks like there are no duplicate rows but we'll anyway remove duplicates with **drop_duplicates**"
   ]
  },
  {
   "cell_type": "code",
   "execution_count": 13,
   "metadata": {},
   "outputs": [],
   "source": [
    "df.drop_duplicates(inplace=True)"
   ]
  },
  {
   "cell_type": "code",
   "execution_count": 14,
   "metadata": {},
   "outputs": [],
   "source": [
    "# We'll drop the 'Time' column since it won't be used since time as a feature won't affect the manufacturing process.\n",
    "\n",
    "df.drop(\"Time\", axis=1, inplace=True)"
   ]
  },
  {
   "cell_type": "code",
   "execution_count": 15,
   "metadata": {},
   "outputs": [],
   "source": [
    "# Getting a clean df before performing any more operations. Can be used later to try other techniques\n",
    "\n",
    "df_clean = df.copy(deep=True)"
   ]
  },
  {
   "cell_type": "code",
   "execution_count": 16,
   "metadata": {},
   "outputs": [
    {
     "data": {
      "text/html": [
       "<div>\n",
       "<style scoped>\n",
       "    .dataframe tbody tr th:only-of-type {\n",
       "        vertical-align: middle;\n",
       "    }\n",
       "\n",
       "    .dataframe tbody tr th {\n",
       "        vertical-align: top;\n",
       "    }\n",
       "\n",
       "    .dataframe thead th {\n",
       "        text-align: right;\n",
       "    }\n",
       "</style>\n",
       "<table border=\"1\" class=\"dataframe\">\n",
       "  <thead>\n",
       "    <tr style=\"text-align: right;\">\n",
       "      <th></th>\n",
       "      <th>count</th>\n",
       "      <th>mean</th>\n",
       "      <th>std</th>\n",
       "      <th>min</th>\n",
       "      <th>25%</th>\n",
       "      <th>50%</th>\n",
       "      <th>75%</th>\n",
       "      <th>max</th>\n",
       "    </tr>\n",
       "  </thead>\n",
       "  <tbody>\n",
       "    <tr>\n",
       "      <th>5</th>\n",
       "      <td>1553.0</td>\n",
       "      <td>100.0</td>\n",
       "      <td>0.0</td>\n",
       "      <td>100.0</td>\n",
       "      <td>100.0</td>\n",
       "      <td>100.0</td>\n",
       "      <td>100.0</td>\n",
       "      <td>100.0</td>\n",
       "    </tr>\n",
       "    <tr>\n",
       "      <th>13</th>\n",
       "      <td>1564.0</td>\n",
       "      <td>0.0</td>\n",
       "      <td>0.0</td>\n",
       "      <td>0.0</td>\n",
       "      <td>0.0</td>\n",
       "      <td>0.0</td>\n",
       "      <td>0.0</td>\n",
       "      <td>0.0</td>\n",
       "    </tr>\n",
       "    <tr>\n",
       "      <th>42</th>\n",
       "      <td>1566.0</td>\n",
       "      <td>70.0</td>\n",
       "      <td>0.0</td>\n",
       "      <td>70.0</td>\n",
       "      <td>70.0</td>\n",
       "      <td>70.0</td>\n",
       "      <td>70.0</td>\n",
       "      <td>70.0</td>\n",
       "    </tr>\n",
       "    <tr>\n",
       "      <th>49</th>\n",
       "      <td>1566.0</td>\n",
       "      <td>1.0</td>\n",
       "      <td>0.0</td>\n",
       "      <td>1.0</td>\n",
       "      <td>1.0</td>\n",
       "      <td>1.0</td>\n",
       "      <td>1.0</td>\n",
       "      <td>1.0</td>\n",
       "    </tr>\n",
       "    <tr>\n",
       "      <th>52</th>\n",
       "      <td>1566.0</td>\n",
       "      <td>0.0</td>\n",
       "      <td>0.0</td>\n",
       "      <td>0.0</td>\n",
       "      <td>0.0</td>\n",
       "      <td>0.0</td>\n",
       "      <td>0.0</td>\n",
       "      <td>0.0</td>\n",
       "    </tr>\n",
       "    <tr>\n",
       "      <th>...</th>\n",
       "      <td>...</td>\n",
       "      <td>...</td>\n",
       "      <td>...</td>\n",
       "      <td>...</td>\n",
       "      <td>...</td>\n",
       "      <td>...</td>\n",
       "      <td>...</td>\n",
       "      <td>...</td>\n",
       "    </tr>\n",
       "    <tr>\n",
       "      <th>534</th>\n",
       "      <td>1558.0</td>\n",
       "      <td>0.0</td>\n",
       "      <td>0.0</td>\n",
       "      <td>0.0</td>\n",
       "      <td>0.0</td>\n",
       "      <td>0.0</td>\n",
       "      <td>0.0</td>\n",
       "      <td>0.0</td>\n",
       "    </tr>\n",
       "    <tr>\n",
       "      <th>535</th>\n",
       "      <td>1558.0</td>\n",
       "      <td>0.0</td>\n",
       "      <td>0.0</td>\n",
       "      <td>0.0</td>\n",
       "      <td>0.0</td>\n",
       "      <td>0.0</td>\n",
       "      <td>0.0</td>\n",
       "      <td>0.0</td>\n",
       "    </tr>\n",
       "    <tr>\n",
       "      <th>536</th>\n",
       "      <td>1558.0</td>\n",
       "      <td>0.0</td>\n",
       "      <td>0.0</td>\n",
       "      <td>0.0</td>\n",
       "      <td>0.0</td>\n",
       "      <td>0.0</td>\n",
       "      <td>0.0</td>\n",
       "      <td>0.0</td>\n",
       "    </tr>\n",
       "    <tr>\n",
       "      <th>537</th>\n",
       "      <td>1558.0</td>\n",
       "      <td>0.0</td>\n",
       "      <td>0.0</td>\n",
       "      <td>0.0</td>\n",
       "      <td>0.0</td>\n",
       "      <td>0.0</td>\n",
       "      <td>0.0</td>\n",
       "      <td>0.0</td>\n",
       "    </tr>\n",
       "    <tr>\n",
       "      <th>538</th>\n",
       "      <td>1558.0</td>\n",
       "      <td>0.0</td>\n",
       "      <td>0.0</td>\n",
       "      <td>0.0</td>\n",
       "      <td>0.0</td>\n",
       "      <td>0.0</td>\n",
       "      <td>0.0</td>\n",
       "      <td>0.0</td>\n",
       "    </tr>\n",
       "  </tbody>\n",
       "</table>\n",
       "<p>116 rows × 8 columns</p>\n",
       "</div>"
      ],
      "text/plain": [
       "      count   mean  std    min    25%    50%    75%    max\n",
       "5    1553.0  100.0  0.0  100.0  100.0  100.0  100.0  100.0\n",
       "13   1564.0    0.0  0.0    0.0    0.0    0.0    0.0    0.0\n",
       "42   1566.0   70.0  0.0   70.0   70.0   70.0   70.0   70.0\n",
       "49   1566.0    1.0  0.0    1.0    1.0    1.0    1.0    1.0\n",
       "52   1566.0    0.0  0.0    0.0    0.0    0.0    0.0    0.0\n",
       "..      ...    ...  ...    ...    ...    ...    ...    ...\n",
       "534  1558.0    0.0  0.0    0.0    0.0    0.0    0.0    0.0\n",
       "535  1558.0    0.0  0.0    0.0    0.0    0.0    0.0    0.0\n",
       "536  1558.0    0.0  0.0    0.0    0.0    0.0    0.0    0.0\n",
       "537  1558.0    0.0  0.0    0.0    0.0    0.0    0.0    0.0\n",
       "538  1558.0    0.0  0.0    0.0    0.0    0.0    0.0    0.0\n",
       "\n",
       "[116 rows x 8 columns]"
      ]
     },
     "execution_count": 16,
     "metadata": {},
     "output_type": "execute_result"
    }
   ],
   "source": [
    "summary[summary[\"std\"] == 0]"
   ]
  },
  {
   "attachments": {},
   "cell_type": "markdown",
   "metadata": {},
   "source": [
    "Features with a standard deviation of 0 means that all its values are the same. This means the feature does not contain any information or variation that can be used to predict the target variable. Hence, such features are not useful and the columns can be dropped."
   ]
  },
  {
   "cell_type": "code",
   "execution_count": 17,
   "metadata": {},
   "outputs": [],
   "source": [
    "# sklearn.feature_selection.VarianceThreshold can be used? need to check\n",
    "\n",
    "# Iterate and drop columns with std value as 0\n",
    "for column in df.columns:\n",
    "    if df[column].std() == 0:\n",
    "        df.drop(column, axis=1, inplace=True)"
   ]
  },
  {
   "cell_type": "code",
   "execution_count": 18,
   "metadata": {},
   "outputs": [
    {
     "data": {
      "text/plain": [
       "(1567, 443)"
      ]
     },
     "execution_count": 18,
     "metadata": {},
     "output_type": "execute_result"
    }
   ],
   "source": [
    "df.shape"
   ]
  },
  {
   "cell_type": "code",
   "execution_count": 19,
   "metadata": {},
   "outputs": [],
   "source": [
    "# threshold = 0.95\n",
    "# correlation_matrix = df.corr()\n",
    "# high_corr = np.where(np.abs(correlation_matrix) > threshold)\n",
    "\n",
    "# print the first two elements to check the correlation structure\n",
    "# print(high_corr[0][0:20])\n",
    "# print(high_corr[1][0:20])\n",
    "# correlated_column_pairs = [\n",
    "#     (correlation_matrix.index[x], correlation_matrix.columns[y])\n",
    "#     for x, y in zip(*high_corr)\n",
    "#     if x != y\n",
    "# ]"
   ]
  },
  {
   "cell_type": "code",
   "execution_count": 20,
   "metadata": {},
   "outputs": [
    {
     "data": {
      "text/plain": [
       "['440', '388', '140', '106', '436']"
      ]
     },
     "execution_count": 20,
     "metadata": {},
     "output_type": "execute_result"
    }
   ],
   "source": [
    "def get_correlated_columns(df, threshold):\n",
    "    correlated_columns = []\n",
    "    correlation_matrix = df.corr()\n",
    "    for i in range(len(correlation_matrix.columns)):\n",
    "        for j in range(i):\n",
    "            if (\n",
    "                abs(correlation_matrix.iloc[i, j]) > threshold\n",
    "            ):  # can be negative/positive so we'll use abs\n",
    "                # name of column appended\n",
    "                # only column (i) appended\n",
    "                correlated_columns.append(correlation_matrix.columns[i])\n",
    "                # print(i,j)\n",
    "    return list(set(correlated_columns))\n",
    "\n",
    "\n",
    "correlated_features = get_correlated_columns(df, threshold=0.95)\n",
    "correlated_features[0:5]"
   ]
  },
  {
   "cell_type": "code",
   "execution_count": 21,
   "metadata": {},
   "outputs": [
    {
     "data": {
      "text/plain": [
       "173"
      ]
     },
     "execution_count": 21,
     "metadata": {},
     "output_type": "execute_result"
    }
   ],
   "source": [
    "len(correlated_features)"
   ]
  },
  {
   "cell_type": "code",
   "execution_count": 22,
   "metadata": {},
   "outputs": [],
   "source": [
    "df.drop(correlated_features, axis=1, inplace=True)"
   ]
  },
  {
   "cell_type": "code",
   "execution_count": 23,
   "metadata": {},
   "outputs": [
    {
     "data": {
      "text/plain": [
       "(1567, 270)"
      ]
     },
     "execution_count": 23,
     "metadata": {},
     "output_type": "execute_result"
    }
   ],
   "source": [
    "df.shape"
   ]
  },
  {
   "attachments": {},
   "cell_type": "markdown",
   "metadata": {},
   "source": [
    "**Observation** \n",
    "\n",
    "If two features are collinear, they shouldn't be considered together. A threshold of **0.95** above which (173) columns are dropped. "
   ]
  },
  {
   "cell_type": "code",
   "execution_count": 24,
   "metadata": {},
   "outputs": [],
   "source": [
    "X = df.drop(\"Pass/Fail\", axis=1)\n",
    "y = df[\"Pass/Fail\"].astype(\"category\").cat.codes"
   ]
  },
  {
   "cell_type": "code",
   "execution_count": 25,
   "metadata": {},
   "outputs": [
    {
     "data": {
      "text/plain": [
       "(1567, 269)"
      ]
     },
     "execution_count": 25,
     "metadata": {},
     "output_type": "execute_result"
    }
   ],
   "source": [
    "X.shape"
   ]
  },
  {
   "cell_type": "code",
   "execution_count": 26,
   "metadata": {},
   "outputs": [
    {
     "data": {
      "text/plain": [
       "0    1463\n",
       "1     104\n",
       "dtype: int64"
      ]
     },
     "execution_count": 26,
     "metadata": {},
     "output_type": "execute_result"
    }
   ],
   "source": [
    "y.value_counts()"
   ]
  },
  {
   "cell_type": "code",
   "execution_count": 27,
   "metadata": {},
   "outputs": [],
   "source": [
    "correlation_with_target = X.corrwith(y)\n",
    "\n",
    "# Set threshold to 0.05 (there is no specific rule to set the threshold)\n",
    "threshold = 0.05\n",
    "low_correlation_features = correlation_with_target[\n",
    "    np.abs(correlation_with_target) < threshold\n",
    "].index"
   ]
  },
  {
   "cell_type": "code",
   "execution_count": 28,
   "metadata": {},
   "outputs": [
    {
     "data": {
      "text/plain": [
       "208"
      ]
     },
     "execution_count": 28,
     "metadata": {},
     "output_type": "execute_result"
    }
   ],
   "source": [
    "len(low_correlation_features)"
   ]
  },
  {
   "cell_type": "code",
   "execution_count": 29,
   "metadata": {},
   "outputs": [],
   "source": [
    "X.drop(low_correlation_features, axis=1, inplace=True)"
   ]
  },
  {
   "cell_type": "code",
   "execution_count": 30,
   "metadata": {},
   "outputs": [],
   "source": [
    "# re-construct the df\n",
    "\n",
    "df = X\n",
    "df[\"Pass/Fail\"] = y"
   ]
  },
  {
   "cell_type": "code",
   "execution_count": 31,
   "metadata": {},
   "outputs": [
    {
     "data": {
      "text/plain": [
       "(1567, 62)"
      ]
     },
     "execution_count": 31,
     "metadata": {},
     "output_type": "execute_result"
    }
   ],
   "source": [
    "df.shape"
   ]
  },
  {
   "attachments": {},
   "cell_type": "markdown",
   "metadata": {},
   "source": [
    "- SelectFromModel is a meta-transformer that can be used alongside any estimator that assigns importance to each feature through a specific attribute.\n",
    "- The features are considered unimportant and removed if the corresponding importance of the feature values are below the provided threshold parameter.\n",
    "- **SelectFromModel** automatically calculates the threshold value based on mean/medain of the feature importances or coefficients if not provided."
   ]
  },
  {
   "cell_type": "code",
   "execution_count": 32,
   "metadata": {},
   "outputs": [
    {
     "data": {
      "text/plain": [
       "(1567, 21)"
      ]
     },
     "execution_count": 32,
     "metadata": {},
     "output_type": "execute_result"
    }
   ],
   "source": [
    "# Reference - https://scikit-learn.org/stable/auto_examples/ensemble/plot_forest_importances.html#sphx-glr-auto-examples-ensemble-plot-forest-importances-py\n",
    "X = df.drop(\"Pass/Fail\", axis=1)\n",
    "y = df[\"Pass/Fail\"]\n",
    "\n",
    "clf = ExtraTreesClassifier(n_estimators=50, random_state=13).fit(X, y)\n",
    "model = SelectFromModel(clf, prefit=True)\n",
    "# model = SelectFromModel(clf, threshold=0.015, prefit=True)\n",
    "X_new = model.transform(X)\n",
    "X_new.shape"
   ]
  },
  {
   "cell_type": "code",
   "execution_count": 33,
   "metadata": {},
   "outputs": [],
   "source": [
    "# Re-create the df\n",
    "df = pd.DataFrame(X_new, columns=X.columns[model.get_support()])\n",
    "df[\"Pass/Fail\"] = y"
   ]
  },
  {
   "cell_type": "code",
   "execution_count": 34,
   "metadata": {},
   "outputs": [
    {
     "data": {
      "text/html": [
       "<div>\n",
       "<style scoped>\n",
       "    .dataframe tbody tr th:only-of-type {\n",
       "        vertical-align: middle;\n",
       "    }\n",
       "\n",
       "    .dataframe tbody tr th {\n",
       "        vertical-align: top;\n",
       "    }\n",
       "\n",
       "    .dataframe thead th {\n",
       "        text-align: right;\n",
       "    }\n",
       "</style>\n",
       "<table border=\"1\" class=\"dataframe\">\n",
       "  <thead>\n",
       "    <tr style=\"text-align: right;\">\n",
       "      <th></th>\n",
       "      <th>32</th>\n",
       "      <th>38</th>\n",
       "      <th>40</th>\n",
       "      <th>59</th>\n",
       "      <th>63</th>\n",
       "      <th>64</th>\n",
       "      <th>65</th>\n",
       "      <th>68</th>\n",
       "      <th>70</th>\n",
       "      <th>100</th>\n",
       "      <th>...</th>\n",
       "      <th>166</th>\n",
       "      <th>205</th>\n",
       "      <th>210</th>\n",
       "      <th>337</th>\n",
       "      <th>348</th>\n",
       "      <th>460</th>\n",
       "      <th>471</th>\n",
       "      <th>510</th>\n",
       "      <th>551</th>\n",
       "      <th>Pass/Fail</th>\n",
       "    </tr>\n",
       "  </thead>\n",
       "  <tbody>\n",
       "    <tr>\n",
       "      <th>289</th>\n",
       "      <td>84.3232</td>\n",
       "      <td>87.0459</td>\n",
       "      <td>78.42</td>\n",
       "      <td>17.9782</td>\n",
       "      <td>16.3736</td>\n",
       "      <td>22.0218</td>\n",
       "      <td>29.1850</td>\n",
       "      <td>146.9073</td>\n",
       "      <td>607.6764</td>\n",
       "      <td>-0.0002</td>\n",
       "      <td>...</td>\n",
       "      <td>2.9</td>\n",
       "      <td>11.68</td>\n",
       "      <td>0.0726</td>\n",
       "      <td>0.8894</td>\n",
       "      <td>0.0183</td>\n",
       "      <td>27.8636</td>\n",
       "      <td>6.2387</td>\n",
       "      <td>57.0629</td>\n",
       "      <td>0.620000</td>\n",
       "      <td>0</td>\n",
       "    </tr>\n",
       "    <tr>\n",
       "      <th>1187</th>\n",
       "      <td>86.7559</td>\n",
       "      <td>87.0029</td>\n",
       "      <td>76.87</td>\n",
       "      <td>1.4055</td>\n",
       "      <td>13.2709</td>\n",
       "      <td>18.5945</td>\n",
       "      <td>21.2995</td>\n",
       "      <td>146.9045</td>\n",
       "      <td>611.2073</td>\n",
       "      <td>-0.0003</td>\n",
       "      <td>...</td>\n",
       "      <td>2.9</td>\n",
       "      <td>10.50</td>\n",
       "      <td>0.0712</td>\n",
       "      <td>5.1166</td>\n",
       "      <td>0.0168</td>\n",
       "      <td>20.6732</td>\n",
       "      <td>31.3633</td>\n",
       "      <td>41.5902</td>\n",
       "      <td>0.980000</td>\n",
       "      <td>0</td>\n",
       "    </tr>\n",
       "    <tr>\n",
       "      <th>705</th>\n",
       "      <td>85.7833</td>\n",
       "      <td>86.5639</td>\n",
       "      <td>76.61</td>\n",
       "      <td>4.0555</td>\n",
       "      <td>9.6396</td>\n",
       "      <td>15.9445</td>\n",
       "      <td>18.2770</td>\n",
       "      <td>151.4891</td>\n",
       "      <td>618.6591</td>\n",
       "      <td>0.0002</td>\n",
       "      <td>...</td>\n",
       "      <td>3.0</td>\n",
       "      <td>6.61</td>\n",
       "      <td>0.1490</td>\n",
       "      <td>3.7386</td>\n",
       "      <td>0.0416</td>\n",
       "      <td>27.2044</td>\n",
       "      <td>29.0995</td>\n",
       "      <td>58.0357</td>\n",
       "      <td>1.320000</td>\n",
       "      <td>0</td>\n",
       "    </tr>\n",
       "    <tr>\n",
       "      <th>155</th>\n",
       "      <td>84.8180</td>\n",
       "      <td>86.7969</td>\n",
       "      <td>78.31</td>\n",
       "      <td>-3.2509</td>\n",
       "      <td>11.1138</td>\n",
       "      <td>23.2509</td>\n",
       "      <td>32.6343</td>\n",
       "      <td>147.0755</td>\n",
       "      <td>634.1618</td>\n",
       "      <td>0.0000</td>\n",
       "      <td>...</td>\n",
       "      <td>2.6</td>\n",
       "      <td>10.79</td>\n",
       "      <td>0.1068</td>\n",
       "      <td>1.0653</td>\n",
       "      <td>0.0272</td>\n",
       "      <td>26.9323</td>\n",
       "      <td>3.4222</td>\n",
       "      <td>142.6901</td>\n",
       "      <td>0.830000</td>\n",
       "      <td>0</td>\n",
       "    </tr>\n",
       "    <tr>\n",
       "      <th>559</th>\n",
       "      <td>83.6359</td>\n",
       "      <td>87.2000</td>\n",
       "      <td>66.12</td>\n",
       "      <td>-0.4173</td>\n",
       "      <td>11.4469</td>\n",
       "      <td>20.4173</td>\n",
       "      <td>27.1259</td>\n",
       "      <td>145.7555</td>\n",
       "      <td>632.7045</td>\n",
       "      <td>0.0001</td>\n",
       "      <td>...</td>\n",
       "      <td>2.7</td>\n",
       "      <td>14.48</td>\n",
       "      <td>0.0900</td>\n",
       "      <td>1.3416</td>\n",
       "      <td>0.0254</td>\n",
       "      <td>21.3212</td>\n",
       "      <td>11.2056</td>\n",
       "      <td>34.1801</td>\n",
       "      <td>0.400000</td>\n",
       "      <td>0</td>\n",
       "    </tr>\n",
       "    <tr>\n",
       "      <th>452</th>\n",
       "      <td>85.7103</td>\n",
       "      <td>87.1828</td>\n",
       "      <td>79.59</td>\n",
       "      <td>2.2118</td>\n",
       "      <td>12.1947</td>\n",
       "      <td>17.7882</td>\n",
       "      <td>23.5681</td>\n",
       "      <td>145.7764</td>\n",
       "      <td>620.3418</td>\n",
       "      <td>0.0000</td>\n",
       "      <td>...</td>\n",
       "      <td>2.2</td>\n",
       "      <td>4.94</td>\n",
       "      <td>0.0510</td>\n",
       "      <td>1.4154</td>\n",
       "      <td>0.0131</td>\n",
       "      <td>18.5910</td>\n",
       "      <td>8.9522</td>\n",
       "      <td>67.8840</td>\n",
       "      <td>1.150000</td>\n",
       "      <td>0</td>\n",
       "    </tr>\n",
       "    <tr>\n",
       "      <th>835</th>\n",
       "      <td>84.3610</td>\n",
       "      <td>86.3364</td>\n",
       "      <td>81.74</td>\n",
       "      <td>7.0273</td>\n",
       "      <td>11.7043</td>\n",
       "      <td>12.9727</td>\n",
       "      <td>16.5255</td>\n",
       "      <td>143.7555</td>\n",
       "      <td>609.7309</td>\n",
       "      <td>-0.0001</td>\n",
       "      <td>...</td>\n",
       "      <td>2.9</td>\n",
       "      <td>5.34</td>\n",
       "      <td>0.0767</td>\n",
       "      <td>2.0671</td>\n",
       "      <td>0.0224</td>\n",
       "      <td>19.2024</td>\n",
       "      <td>6.0961</td>\n",
       "      <td>25.4835</td>\n",
       "      <td>0.750000</td>\n",
       "      <td>0</td>\n",
       "    </tr>\n",
       "    <tr>\n",
       "      <th>869</th>\n",
       "      <td>85.5246</td>\n",
       "      <td>87.3204</td>\n",
       "      <td>10.11</td>\n",
       "      <td>5.9155</td>\n",
       "      <td>12.9509</td>\n",
       "      <td>14.0845</td>\n",
       "      <td>19.9683</td>\n",
       "      <td>145.3418</td>\n",
       "      <td>616.3182</td>\n",
       "      <td>-0.0006</td>\n",
       "      <td>...</td>\n",
       "      <td>1.2</td>\n",
       "      <td>8.09</td>\n",
       "      <td>0.1069</td>\n",
       "      <td>0.9888</td>\n",
       "      <td>0.0317</td>\n",
       "      <td>21.7408</td>\n",
       "      <td>5.4538</td>\n",
       "      <td>35.6998</td>\n",
       "      <td>0.810000</td>\n",
       "      <td>0</td>\n",
       "    </tr>\n",
       "    <tr>\n",
       "      <th>1007</th>\n",
       "      <td>84.5987</td>\n",
       "      <td>86.8182</td>\n",
       "      <td>79.35</td>\n",
       "      <td>4.9082</td>\n",
       "      <td>8.7316</td>\n",
       "      <td>15.0918</td>\n",
       "      <td>19.7445</td>\n",
       "      <td>148.2364</td>\n",
       "      <td>616.1045</td>\n",
       "      <td>-0.0006</td>\n",
       "      <td>...</td>\n",
       "      <td>4.9</td>\n",
       "      <td>4.50</td>\n",
       "      <td>0.0533</td>\n",
       "      <td>1.6419</td>\n",
       "      <td>0.0132</td>\n",
       "      <td>73.4752</td>\n",
       "      <td>5.2310</td>\n",
       "      <td>33.1688</td>\n",
       "      <td>1.230712</td>\n",
       "      <td>0</td>\n",
       "    </tr>\n",
       "    <tr>\n",
       "      <th>1177</th>\n",
       "      <td>85.9801</td>\n",
       "      <td>86.2277</td>\n",
       "      <td>81.32</td>\n",
       "      <td>-0.9500</td>\n",
       "      <td>21.2546</td>\n",
       "      <td>20.9500</td>\n",
       "      <td>31.2129</td>\n",
       "      <td>144.5627</td>\n",
       "      <td>618.1018</td>\n",
       "      <td>0.0003</td>\n",
       "      <td>...</td>\n",
       "      <td>2.2</td>\n",
       "      <td>6.28</td>\n",
       "      <td>0.1228</td>\n",
       "      <td>2.6885</td>\n",
       "      <td>0.0281</td>\n",
       "      <td>19.8503</td>\n",
       "      <td>6.5505</td>\n",
       "      <td>40.1180</td>\n",
       "      <td>2.140000</td>\n",
       "      <td>0</td>\n",
       "    </tr>\n",
       "  </tbody>\n",
       "</table>\n",
       "<p>10 rows × 22 columns</p>\n",
       "</div>"
      ],
      "text/plain": [
       "           32       38     40       59       63       64       65        68  \\\n",
       "289   84.3232  87.0459  78.42  17.9782  16.3736  22.0218  29.1850  146.9073   \n",
       "1187  86.7559  87.0029  76.87   1.4055  13.2709  18.5945  21.2995  146.9045   \n",
       "705   85.7833  86.5639  76.61   4.0555   9.6396  15.9445  18.2770  151.4891   \n",
       "155   84.8180  86.7969  78.31  -3.2509  11.1138  23.2509  32.6343  147.0755   \n",
       "559   83.6359  87.2000  66.12  -0.4173  11.4469  20.4173  27.1259  145.7555   \n",
       "452   85.7103  87.1828  79.59   2.2118  12.1947  17.7882  23.5681  145.7764   \n",
       "835   84.3610  86.3364  81.74   7.0273  11.7043  12.9727  16.5255  143.7555   \n",
       "869   85.5246  87.3204  10.11   5.9155  12.9509  14.0845  19.9683  145.3418   \n",
       "1007  84.5987  86.8182  79.35   4.9082   8.7316  15.0918  19.7445  148.2364   \n",
       "1177  85.9801  86.2277  81.32  -0.9500  21.2546  20.9500  31.2129  144.5627   \n",
       "\n",
       "            70     100  ...  166    205     210     337     348      460  \\\n",
       "289   607.6764 -0.0002  ...  2.9  11.68  0.0726  0.8894  0.0183  27.8636   \n",
       "1187  611.2073 -0.0003  ...  2.9  10.50  0.0712  5.1166  0.0168  20.6732   \n",
       "705   618.6591  0.0002  ...  3.0   6.61  0.1490  3.7386  0.0416  27.2044   \n",
       "155   634.1618  0.0000  ...  2.6  10.79  0.1068  1.0653  0.0272  26.9323   \n",
       "559   632.7045  0.0001  ...  2.7  14.48  0.0900  1.3416  0.0254  21.3212   \n",
       "452   620.3418  0.0000  ...  2.2   4.94  0.0510  1.4154  0.0131  18.5910   \n",
       "835   609.7309 -0.0001  ...  2.9   5.34  0.0767  2.0671  0.0224  19.2024   \n",
       "869   616.3182 -0.0006  ...  1.2   8.09  0.1069  0.9888  0.0317  21.7408   \n",
       "1007  616.1045 -0.0006  ...  4.9   4.50  0.0533  1.6419  0.0132  73.4752   \n",
       "1177  618.1018  0.0003  ...  2.2   6.28  0.1228  2.6885  0.0281  19.8503   \n",
       "\n",
       "          471       510       551  Pass/Fail  \n",
       "289    6.2387   57.0629  0.620000          0  \n",
       "1187  31.3633   41.5902  0.980000          0  \n",
       "705   29.0995   58.0357  1.320000          0  \n",
       "155    3.4222  142.6901  0.830000          0  \n",
       "559   11.2056   34.1801  0.400000          0  \n",
       "452    8.9522   67.8840  1.150000          0  \n",
       "835    6.0961   25.4835  0.750000          0  \n",
       "869    5.4538   35.6998  0.810000          0  \n",
       "1007   5.2310   33.1688  1.230712          0  \n",
       "1177   6.5505   40.1180  2.140000          0  \n",
       "\n",
       "[10 rows x 22 columns]"
      ]
     },
     "execution_count": 34,
     "metadata": {},
     "output_type": "execute_result"
    }
   ],
   "source": [
    "df.sample(10)"
   ]
  },
  {
   "cell_type": "code",
   "execution_count": 35,
   "metadata": {},
   "outputs": [
    {
     "data": {
      "text/plain": [
       "(1567, 22)"
      ]
     },
     "execution_count": 35,
     "metadata": {},
     "output_type": "execute_result"
    }
   ],
   "source": [
    "df.shape"
   ]
  },
  {
   "attachments": {},
   "cell_type": "markdown",
   "metadata": {},
   "source": [
    "### Data analysis & visualisation"
   ]
  },
  {
   "cell_type": "code",
   "execution_count": 36,
   "metadata": {},
   "outputs": [
    {
     "data": {
      "image/png": "[encoded data removed]",
      "text/plain": [
       "<Figure size 640x480 with 1 Axes>"
      ]
     },
     "metadata": {},
     "output_type": "display_data"
    }
   ],
   "source": [
    "pass_fail_dist = df[\"Pass/Fail\"].value_counts(normalize=True)\n",
    "plt.pie(pass_fail_dist, autopct=\"%.2f\")\n",
    "plt.title(\"Pass/Fail\")\n",
    "plt.legend(loc=\"lower right\", labels=[\"pass\", \"fail\"])\n",
    "plt.axis(\"equal\")\n",
    "plt.show()"
   ]
  },
  {
   "attachments": {},
   "cell_type": "markdown",
   "metadata": {},
   "source": [
    "**Observation** \n",
    "\n",
    "Majority of cases are \"PASS\" for a sensor but very less number of data is available to identify \"FAIL\" cases.\n",
    "This shows that classes are not balanced."
   ]
  },
  {
   "cell_type": "code",
   "execution_count": 37,
   "metadata": {},
   "outputs": [
    {
     "data": {
      "text/plain": [
       "['32', '38', '40', '59', '63', 'Pass/Fail']"
      ]
     },
     "execution_count": 37,
     "metadata": {},
     "output_type": "execute_result"
    }
   ],
   "source": [
    "chosen_columns = list(df.columns[0:5]) + [\"Pass/Fail\"]\n",
    "chosen_columns"
   ]
  },
  {
   "cell_type": "code",
   "execution_count": 38,
   "metadata": {},
   "outputs": [
    {
     "data": {
      "image/png": "[encoded data removed]",
      "text/plain": [
       "<Figure size 582.222x500 with 1 Axes>"
      ]
     },
     "metadata": {},
     "output_type": "display_data"
    },
    {
     "data": {
      "image/png": "[encoded data removed]",
      "text/plain": [
       "<Figure size 582.222x500 with 1 Axes>"
      ]
     },
     "metadata": {},
     "output_type": "display_data"
    },
    {
     "data": {
      "image/png": "[encoded data removed]",
      "text/plain": [
       "<Figure size 582.222x500 with 1 Axes>"
      ]
     },
     "metadata": {},
     "output_type": "display_data"
    },
    {
     "data": {
      "image/png": "[encoded data removed]",
      "text/plain": [
       "<Figure size 582.222x500 with 1 Axes>"
      ]
     },
     "metadata": {},
     "output_type": "display_data"
    },
    {
     "data": {
      "image/png": "[encoded data removed]",
      "text/plain": [
       "<Figure size 582.222x500 with 1 Axes>"
      ]
     },
     "metadata": {},
     "output_type": "display_data"
    }
   ],
   "source": [
    "for column in df[chosen_columns].columns[0:5]:\n",
    "    sns.displot(\n",
    "        df[chosen_columns], x=column, hue=\"Pass/Fail\", kind=\"hist\", rug=True, kde=True\n",
    "    )\n",
    "    plt.title(f\"Sensor - {column}\")\n",
    "    plt.show()"
   ]
  },
  {
   "attachments": {},
   "cell_type": "markdown",
   "metadata": {},
   "source": [
    "**Observation**\n",
    "\n",
    "> We'll take first 5 sensor values for uni-variate analysis\n",
    "\n",
    "- Sensor 32, 58 and 59 are right skewed and for sensor 40, the distribution is left skewed but there is no clear relation in outliers observed with \"FAIL\" cases.\n",
    "- Except for sensor 59 the minimum signal values are above 0 for selected 5 sensors.\n",
    "- In the case of sensor 38 there ain't much variation in the value"
   ]
  },
  {
   "attachments": {},
   "cell_type": "markdown",
   "metadata": {},
   "source": [
    "Bivariate and multivariate analysis with appropriate detailed comments after each analysis."
   ]
  },
  {
   "cell_type": "code",
   "execution_count": 39,
   "metadata": {},
   "outputs": [
    {
     "data": {
      "text/plain": [
       "<AxesSubplot: xlabel='32', ylabel='38'>"
      ]
     },
     "execution_count": 39,
     "metadata": {},
     "output_type": "execute_result"
    },
    {
     "data": {
      "image/png": "[encoded data removed]",
      "text/plain": [
       "<Figure size 640x480 with 1 Axes>"
      ]
     },
     "metadata": {},
     "output_type": "display_data"
    }
   ],
   "source": [
    "sns.scatterplot(df, x=\"32\", y=\"38\", hue=\"Pass/Fail\")"
   ]
  },
  {
   "cell_type": "code",
   "execution_count": 40,
   "metadata": {},
   "outputs": [
    {
     "data": {
      "text/plain": [
       "<AxesSubplot: xlabel='38', ylabel='59'>"
      ]
     },
     "execution_count": 40,
     "metadata": {},
     "output_type": "execute_result"
    },
    {
     "data": {
      "image/png": "[encoded data removed]",
      "text/plain": [
       "<Figure size 640x480 with 1 Axes>"
      ]
     },
     "metadata": {},
     "output_type": "display_data"
    }
   ],
   "source": [
    "sns.scatterplot(df, x=\"38\", y=\"59\", hue=\"Pass/Fail\")"
   ]
  },
  {
   "cell_type": "code",
   "execution_count": 41,
   "metadata": {},
   "outputs": [
    {
     "data": {
      "text/plain": [
       "<AxesSubplot: xlabel='59', ylabel='40'>"
      ]
     },
     "execution_count": 41,
     "metadata": {},
     "output_type": "execute_result"
    },
    {
     "data": {
      "image/png": "[encoded data removed]",
      "text/plain": [
       "<Figure size 640x480 with 1 Axes>"
      ]
     },
     "metadata": {},
     "output_type": "display_data"
    }
   ],
   "source": [
    "sns.scatterplot(df, x=\"59\", y=\"40\", hue=\"Pass/Fail\")"
   ]
  },
  {
   "attachments": {},
   "cell_type": "markdown",
   "metadata": {},
   "source": [
    "**Observations**\n",
    "\n",
    "> Note: Since we don't have variable names here, it is difficult to understand which variable is giving us what information\n",
    "> Therefore bi-variate analysis of few variables are perfomed here.\n",
    "\n",
    "- There doesn't seem to be a linear pattern\t/correlation between the selected sensor data. They appear to be clustered. \n",
    "- The scatter plot between sensor 38 and 58 shows comparatively better correlation to the other scatter plots "
   ]
  },
  {
   "cell_type": "code",
   "execution_count": 42,
   "metadata": {},
   "outputs": [
    {
     "data": {
      "text/plain": [
       "<AxesSubplot: >"
      ]
     },
     "execution_count": 42,
     "metadata": {},
     "output_type": "execute_result"
    },
    {
     "data": {
      "image/png": "[encoded data removed]",
      "text/plain": [
       "<Figure size 640x480 with 2 Axes>"
      ]
     },
     "metadata": {},
     "output_type": "display_data"
    }
   ],
   "source": [
    "# sns.heatmap(df[chosen_columns].drop('Pass/Fail', axis=1).corr(), annot=True)\n",
    "sns.heatmap(df.drop(\"Pass/Fail\", axis=1).corr())"
   ]
  },
  {
   "attachments": {},
   "cell_type": "markdown",
   "metadata": {},
   "source": [
    "**Observation**\n",
    "\n",
    "- There are are points which are both negatively and positively correlated.\n",
    "\t- Example between sensor data 210 and 348 for positive correlation and 68 and 205 for strong negative correlation.\n",
    "- In most of the cases the correlation value ranges from -0.2 to 0.2"
   ]
  },
  {
   "attachments": {},
   "cell_type": "markdown",
   "metadata": {},
   "source": [
    "### Data pre-processing"
   ]
  },
  {
   "cell_type": "code",
   "execution_count": 43,
   "metadata": {},
   "outputs": [],
   "source": [
    "# predictor\n",
    "X = df.drop(\"Pass/Fail\", axis=1)\n",
    "\n",
    "# target\n",
    "y = df[\"Pass/Fail\"]"
   ]
  },
  {
   "cell_type": "code",
   "execution_count": 44,
   "metadata": {},
   "outputs": [
    {
     "name": "stdout",
     "output_type": "stream",
     "text": [
      "Pass count - 1463\n",
      "Fail count - 104\n"
     ]
    }
   ],
   "source": [
    "pass_count, fail_count = y.value_counts()\n",
    "print(f\"Pass count - {pass_count}\")\n",
    "print(f\"Fail count - {fail_count}\")"
   ]
  },
  {
   "cell_type": "code",
   "execution_count": 45,
   "metadata": {},
   "outputs": [],
   "source": [
    "# Oversampling minority class without using imblearn package\n",
    "\n",
    "\n",
    "# df_pass = df[df['Pass/Fail'] == 0]\n",
    "# df_fail = df[df['Pass/Fail'] == 1]\n",
    "\n",
    "# df_fail_over_sample = df_fail.sample(pass_count, replace=True)\n",
    "# df_sampled = pd.concat([df_pass, df_fail_over_sample], axis=0)\n",
    "\n",
    "# df_sampled['Pass/Fail'].value_counts()"
   ]
  },
  {
   "cell_type": "code",
   "execution_count": 46,
   "metadata": {},
   "outputs": [
    {
     "data": {
      "text/plain": [
       "0    1463\n",
       "1    1463\n",
       "Name: Pass/Fail, dtype: int64"
      ]
     },
     "execution_count": 46,
     "metadata": {},
     "output_type": "execute_result"
    }
   ],
   "source": [
    "sm = SMOTE(sampling_strategy=\"minority\", random_state=13)\n",
    "\n",
    "X, y = sm.fit_resample(X, y)\n",
    "y.value_counts()"
   ]
  },
  {
   "attachments": {},
   "cell_type": "markdown",
   "metadata": {},
   "source": [
    "SMOTE creates synthetic samples of the minority class by interpolating between existing minority samples, while random upsampling simply duplicates existing minority samples. This makes SMOTE less prone to overfitting compared to random upsampling."
   ]
  },
  {
   "cell_type": "code",
   "execution_count": 47,
   "metadata": {},
   "outputs": [
    {
     "data": {
      "text/plain": [
       "(2926, 21)"
      ]
     },
     "execution_count": 47,
     "metadata": {},
     "output_type": "execute_result"
    }
   ],
   "source": [
    "scaler = MinMaxScaler()\n",
    "scaler.fit(X)\n",
    "X_scaled = pd.DataFrame(scaler.transform(X), columns=X.columns)\n",
    "X_scaled.shape"
   ]
  },
  {
   "cell_type": "code",
   "execution_count": 48,
   "metadata": {},
   "outputs": [
    {
     "data": {
      "text/html": [
       "<div>\n",
       "<style scoped>\n",
       "    .dataframe tbody tr th:only-of-type {\n",
       "        vertical-align: middle;\n",
       "    }\n",
       "\n",
       "    .dataframe tbody tr th {\n",
       "        vertical-align: top;\n",
       "    }\n",
       "\n",
       "    .dataframe thead th {\n",
       "        text-align: right;\n",
       "    }\n",
       "</style>\n",
       "<table border=\"1\" class=\"dataframe\">\n",
       "  <thead>\n",
       "    <tr style=\"text-align: right;\">\n",
       "      <th></th>\n",
       "      <th>32</th>\n",
       "      <th>38</th>\n",
       "      <th>40</th>\n",
       "      <th>59</th>\n",
       "      <th>63</th>\n",
       "      <th>64</th>\n",
       "      <th>65</th>\n",
       "      <th>68</th>\n",
       "      <th>70</th>\n",
       "      <th>100</th>\n",
       "      <th>...</th>\n",
       "      <th>164</th>\n",
       "      <th>166</th>\n",
       "      <th>205</th>\n",
       "      <th>210</th>\n",
       "      <th>337</th>\n",
       "      <th>348</th>\n",
       "      <th>460</th>\n",
       "      <th>471</th>\n",
       "      <th>510</th>\n",
       "      <th>551</th>\n",
       "    </tr>\n",
       "  </thead>\n",
       "  <tbody>\n",
       "    <tr>\n",
       "      <th>321</th>\n",
       "      <td>0.106200</td>\n",
       "      <td>0.631508</td>\n",
       "      <td>0.737147</td>\n",
       "      <td>0.243951</td>\n",
       "      <td>0.059890</td>\n",
       "      <td>0.339659</td>\n",
       "      <td>0.198388</td>\n",
       "      <td>0.718471</td>\n",
       "      <td>0.343264</td>\n",
       "      <td>0.603774</td>\n",
       "      <td>...</td>\n",
       "      <td>0.037975</td>\n",
       "      <td>0.103448</td>\n",
       "      <td>0.024296</td>\n",
       "      <td>0.346956</td>\n",
       "      <td>0.086847</td>\n",
       "      <td>0.251311</td>\n",
       "      <td>0.113405</td>\n",
       "      <td>0.005986</td>\n",
       "      <td>0.058797</td>\n",
       "      <td>0.028327</td>\n",
       "    </tr>\n",
       "    <tr>\n",
       "      <th>1513</th>\n",
       "      <td>0.081977</td>\n",
       "      <td>0.422289</td>\n",
       "      <td>0.922774</td>\n",
       "      <td>0.171181</td>\n",
       "      <td>0.030111</td>\n",
       "      <td>0.206735</td>\n",
       "      <td>0.136624</td>\n",
       "      <td>0.818059</td>\n",
       "      <td>0.356588</td>\n",
       "      <td>0.566038</td>\n",
       "      <td>...</td>\n",
       "      <td>0.076500</td>\n",
       "      <td>0.167488</td>\n",
       "      <td>0.026404</td>\n",
       "      <td>0.152941</td>\n",
       "      <td>0.057877</td>\n",
       "      <td>0.082499</td>\n",
       "      <td>0.121210</td>\n",
       "      <td>0.017155</td>\n",
       "      <td>0.093137</td>\n",
       "      <td>0.030859</td>\n",
       "    </tr>\n",
       "    <tr>\n",
       "      <th>1025</th>\n",
       "      <td>0.036140</td>\n",
       "      <td>0.601530</td>\n",
       "      <td>0.900338</td>\n",
       "      <td>0.162198</td>\n",
       "      <td>0.027521</td>\n",
       "      <td>0.248364</td>\n",
       "      <td>0.162657</td>\n",
       "      <td>0.763674</td>\n",
       "      <td>0.248646</td>\n",
       "      <td>0.339623</td>\n",
       "      <td>...</td>\n",
       "      <td>0.015960</td>\n",
       "      <td>0.241379</td>\n",
       "      <td>0.020740</td>\n",
       "      <td>0.105263</td>\n",
       "      <td>0.033314</td>\n",
       "      <td>0.077730</td>\n",
       "      <td>0.078092</td>\n",
       "      <td>0.007061</td>\n",
       "      <td>0.078245</td>\n",
       "      <td>0.019128</td>\n",
       "    </tr>\n",
       "    <tr>\n",
       "      <th>738</th>\n",
       "      <td>0.016770</td>\n",
       "      <td>0.614471</td>\n",
       "      <td>0.931394</td>\n",
       "      <td>0.164494</td>\n",
       "      <td>0.069199</td>\n",
       "      <td>0.237722</td>\n",
       "      <td>0.170489</td>\n",
       "      <td>0.791700</td>\n",
       "      <td>0.185253</td>\n",
       "      <td>0.641509</td>\n",
       "      <td>...</td>\n",
       "      <td>0.074298</td>\n",
       "      <td>0.157635</td>\n",
       "      <td>0.056428</td>\n",
       "      <td>0.111455</td>\n",
       "      <td>0.028792</td>\n",
       "      <td>0.062470</td>\n",
       "      <td>0.134343</td>\n",
       "      <td>0.017598</td>\n",
       "      <td>0.075902</td>\n",
       "      <td>0.027034</td>\n",
       "    </tr>\n",
       "    <tr>\n",
       "      <th>2677</th>\n",
       "      <td>0.065869</td>\n",
       "      <td>0.461107</td>\n",
       "      <td>0.938463</td>\n",
       "      <td>0.137835</td>\n",
       "      <td>0.047890</td>\n",
       "      <td>0.361263</td>\n",
       "      <td>0.214682</td>\n",
       "      <td>0.687695</td>\n",
       "      <td>0.284746</td>\n",
       "      <td>0.672667</td>\n",
       "      <td>...</td>\n",
       "      <td>0.028891</td>\n",
       "      <td>0.107945</td>\n",
       "      <td>0.014349</td>\n",
       "      <td>0.079875</td>\n",
       "      <td>0.088457</td>\n",
       "      <td>0.052893</td>\n",
       "      <td>0.018868</td>\n",
       "      <td>0.065983</td>\n",
       "      <td>0.071641</td>\n",
       "      <td>0.008255</td>\n",
       "    </tr>\n",
       "  </tbody>\n",
       "</table>\n",
       "<p>5 rows × 21 columns</p>\n",
       "</div>"
      ],
      "text/plain": [
       "            32        38        40        59        63        64        65  \\\n",
       "321   0.106200  0.631508  0.737147  0.243951  0.059890  0.339659  0.198388   \n",
       "1513  0.081977  0.422289  0.922774  0.171181  0.030111  0.206735  0.136624   \n",
       "1025  0.036140  0.601530  0.900338  0.162198  0.027521  0.248364  0.162657   \n",
       "738   0.016770  0.614471  0.931394  0.164494  0.069199  0.237722  0.170489   \n",
       "2677  0.065869  0.461107  0.938463  0.137835  0.047890  0.361263  0.214682   \n",
       "\n",
       "            68        70       100  ...       164       166       205  \\\n",
       "321   0.718471  0.343264  0.603774  ...  0.037975  0.103448  0.024296   \n",
       "1513  0.818059  0.356588  0.566038  ...  0.076500  0.167488  0.026404   \n",
       "1025  0.763674  0.248646  0.339623  ...  0.015960  0.241379  0.020740   \n",
       "738   0.791700  0.185253  0.641509  ...  0.074298  0.157635  0.056428   \n",
       "2677  0.687695  0.284746  0.672667  ...  0.028891  0.107945  0.014349   \n",
       "\n",
       "           210       337       348       460       471       510       551  \n",
       "321   0.346956  0.086847  0.251311  0.113405  0.005986  0.058797  0.028327  \n",
       "1513  0.152941  0.057877  0.082499  0.121210  0.017155  0.093137  0.030859  \n",
       "1025  0.105263  0.033314  0.077730  0.078092  0.007061  0.078245  0.019128  \n",
       "738   0.111455  0.028792  0.062470  0.134343  0.017598  0.075902  0.027034  \n",
       "2677  0.079875  0.088457  0.052893  0.018868  0.065983  0.071641  0.008255  \n",
       "\n",
       "[5 rows x 21 columns]"
      ]
     },
     "execution_count": 48,
     "metadata": {},
     "output_type": "execute_result"
    }
   ],
   "source": [
    "X_scaled.sample(5)"
   ]
  },
  {
   "cell_type": "code",
   "execution_count": 49,
   "metadata": {},
   "outputs": [
    {
     "name": "stdout",
     "output_type": "stream",
     "text": [
      "X_train shape - (2340, 21)\n",
      "X_test shape  - (586, 21)\n",
      "y_train len   - 2340\n",
      "y_test len    - 586\n"
     ]
    }
   ],
   "source": [
    "# Wrong way! Split and then standardize :)\n",
    "X_train, X_test, y_train, y_test = train_test_split(\n",
    "    X_scaled, y, test_size=0.2, random_state=13, shuffle=True, stratify=y\n",
    ")\n",
    "print(f\"X_train shape - {X_train.shape}\")\n",
    "print(f\"X_test shape  - {X_test.shape}\")\n",
    "print(f\"y_train len   - {len(y_train)}\")\n",
    "print(f\"y_test len    - {len(y_test)}\")"
   ]
  },
  {
   "attachments": {},
   "cell_type": "markdown",
   "metadata": {},
   "source": [
    "Printing the 5 point summary for only the first 10 elements to verify"
   ]
  },
  {
   "cell_type": "code",
   "execution_count": 50,
   "metadata": {},
   "outputs": [
    {
     "data": {
      "text/html": [
       "<div>\n",
       "<style scoped>\n",
       "    .dataframe tbody tr th:only-of-type {\n",
       "        vertical-align: middle;\n",
       "    }\n",
       "\n",
       "    .dataframe tbody tr th {\n",
       "        vertical-align: top;\n",
       "    }\n",
       "\n",
       "    .dataframe thead th {\n",
       "        text-align: right;\n",
       "    }\n",
       "</style>\n",
       "<table border=\"1\" class=\"dataframe\">\n",
       "  <thead>\n",
       "    <tr style=\"text-align: right;\">\n",
       "      <th></th>\n",
       "      <th>count</th>\n",
       "      <th>mean</th>\n",
       "      <th>std</th>\n",
       "      <th>min</th>\n",
       "      <th>25%</th>\n",
       "      <th>50%</th>\n",
       "      <th>75%</th>\n",
       "      <th>max</th>\n",
       "    </tr>\n",
       "  </thead>\n",
       "  <tbody>\n",
       "    <tr>\n",
       "      <th>32</th>\n",
       "      <td>2926.0</td>\n",
       "      <td>0.100842</td>\n",
       "      <td>0.088899</td>\n",
       "      <td>0.0</td>\n",
       "      <td>0.066434</td>\n",
       "      <td>0.089163</td>\n",
       "      <td>0.113864</td>\n",
       "      <td>1.0</td>\n",
       "    </tr>\n",
       "    <tr>\n",
       "      <th>38</th>\n",
       "      <td>2926.0</td>\n",
       "      <td>0.581015</td>\n",
       "      <td>0.137096</td>\n",
       "      <td>0.0</td>\n",
       "      <td>0.506792</td>\n",
       "      <td>0.570163</td>\n",
       "      <td>0.625643</td>\n",
       "      <td>1.0</td>\n",
       "    </tr>\n",
       "    <tr>\n",
       "      <th>40</th>\n",
       "      <td>2926.0</td>\n",
       "      <td>0.761727</td>\n",
       "      <td>0.296601</td>\n",
       "      <td>0.0</td>\n",
       "      <td>0.784910</td>\n",
       "      <td>0.902851</td>\n",
       "      <td>0.926080</td>\n",
       "      <td>1.0</td>\n",
       "    </tr>\n",
       "    <tr>\n",
       "      <th>59</th>\n",
       "      <td>2926.0</td>\n",
       "      <td>0.173697</td>\n",
       "      <td>0.049148</td>\n",
       "      <td>0.0</td>\n",
       "      <td>0.143246</td>\n",
       "      <td>0.159313</td>\n",
       "      <td>0.195221</td>\n",
       "      <td>1.0</td>\n",
       "    </tr>\n",
       "    <tr>\n",
       "      <th>63</th>\n",
       "      <td>2926.0</td>\n",
       "      <td>0.069069</td>\n",
       "      <td>0.036234</td>\n",
       "      <td>0.0</td>\n",
       "      <td>0.048399</td>\n",
       "      <td>0.063362</td>\n",
       "      <td>0.081315</td>\n",
       "      <td>1.0</td>\n",
       "    </tr>\n",
       "    <tr>\n",
       "      <th>64</th>\n",
       "      <td>2926.0</td>\n",
       "      <td>0.342909</td>\n",
       "      <td>0.136743</td>\n",
       "      <td>0.0</td>\n",
       "      <td>0.252093</td>\n",
       "      <td>0.322024</td>\n",
       "      <td>0.407072</td>\n",
       "      <td>1.0</td>\n",
       "    </tr>\n",
       "    <tr>\n",
       "      <th>65</th>\n",
       "      <td>2926.0</td>\n",
       "      <td>0.204934</td>\n",
       "      <td>0.065847</td>\n",
       "      <td>0.0</td>\n",
       "      <td>0.163196</td>\n",
       "      <td>0.194852</td>\n",
       "      <td>0.234893</td>\n",
       "      <td>1.0</td>\n",
       "    </tr>\n",
       "    <tr>\n",
       "      <th>68</th>\n",
       "      <td>2926.0</td>\n",
       "      <td>0.744443</td>\n",
       "      <td>0.053837</td>\n",
       "      <td>0.0</td>\n",
       "      <td>0.718159</td>\n",
       "      <td>0.745816</td>\n",
       "      <td>0.775625</td>\n",
       "      <td>1.0</td>\n",
       "    </tr>\n",
       "    <tr>\n",
       "      <th>70</th>\n",
       "      <td>2926.0</td>\n",
       "      <td>0.260013</td>\n",
       "      <td>0.064279</td>\n",
       "      <td>0.0</td>\n",
       "      <td>0.220122</td>\n",
       "      <td>0.257651</td>\n",
       "      <td>0.300768</td>\n",
       "      <td>1.0</td>\n",
       "    </tr>\n",
       "    <tr>\n",
       "      <th>100</th>\n",
       "      <td>2926.0</td>\n",
       "      <td>0.569608</td>\n",
       "      <td>0.066805</td>\n",
       "      <td>0.0</td>\n",
       "      <td>0.529189</td>\n",
       "      <td>0.566038</td>\n",
       "      <td>0.603774</td>\n",
       "      <td>1.0</td>\n",
       "    </tr>\n",
       "  </tbody>\n",
       "</table>\n",
       "</div>"
      ],
      "text/plain": [
       "      count      mean       std  min       25%       50%       75%  max\n",
       "32   2926.0  0.100842  0.088899  0.0  0.066434  0.089163  0.113864  1.0\n",
       "38   2926.0  0.581015  0.137096  0.0  0.506792  0.570163  0.625643  1.0\n",
       "40   2926.0  0.761727  0.296601  0.0  0.784910  0.902851  0.926080  1.0\n",
       "59   2926.0  0.173697  0.049148  0.0  0.143246  0.159313  0.195221  1.0\n",
       "63   2926.0  0.069069  0.036234  0.0  0.048399  0.063362  0.081315  1.0\n",
       "64   2926.0  0.342909  0.136743  0.0  0.252093  0.322024  0.407072  1.0\n",
       "65   2926.0  0.204934  0.065847  0.0  0.163196  0.194852  0.234893  1.0\n",
       "68   2926.0  0.744443  0.053837  0.0  0.718159  0.745816  0.775625  1.0\n",
       "70   2926.0  0.260013  0.064279  0.0  0.220122  0.257651  0.300768  1.0\n",
       "100  2926.0  0.569608  0.066805  0.0  0.529189  0.566038  0.603774  1.0"
      ]
     },
     "execution_count": 50,
     "metadata": {},
     "output_type": "execute_result"
    }
   ],
   "source": [
    "X_scaled.describe().T.head(10)"
   ]
  },
  {
   "cell_type": "code",
   "execution_count": 51,
   "metadata": {},
   "outputs": [
    {
     "data": {
      "text/html": [
       "<div>\n",
       "<style scoped>\n",
       "    .dataframe tbody tr th:only-of-type {\n",
       "        vertical-align: middle;\n",
       "    }\n",
       "\n",
       "    .dataframe tbody tr th {\n",
       "        vertical-align: top;\n",
       "    }\n",
       "\n",
       "    .dataframe thead th {\n",
       "        text-align: right;\n",
       "    }\n",
       "</style>\n",
       "<table border=\"1\" class=\"dataframe\">\n",
       "  <thead>\n",
       "    <tr style=\"text-align: right;\">\n",
       "      <th></th>\n",
       "      <th>count</th>\n",
       "      <th>mean</th>\n",
       "      <th>std</th>\n",
       "      <th>min</th>\n",
       "      <th>25%</th>\n",
       "      <th>50%</th>\n",
       "      <th>75%</th>\n",
       "      <th>max</th>\n",
       "    </tr>\n",
       "  </thead>\n",
       "  <tbody>\n",
       "    <tr>\n",
       "      <th>32</th>\n",
       "      <td>2340.0</td>\n",
       "      <td>0.101254</td>\n",
       "      <td>0.090525</td>\n",
       "      <td>0.000000</td>\n",
       "      <td>0.066434</td>\n",
       "      <td>0.089148</td>\n",
       "      <td>0.113897</td>\n",
       "      <td>1.000000</td>\n",
       "    </tr>\n",
       "    <tr>\n",
       "      <th>38</th>\n",
       "      <td>2340.0</td>\n",
       "      <td>0.580918</td>\n",
       "      <td>0.138007</td>\n",
       "      <td>0.000000</td>\n",
       "      <td>0.509467</td>\n",
       "      <td>0.571091</td>\n",
       "      <td>0.626616</td>\n",
       "      <td>1.000000</td>\n",
       "    </tr>\n",
       "    <tr>\n",
       "      <th>40</th>\n",
       "      <td>2340.0</td>\n",
       "      <td>0.761599</td>\n",
       "      <td>0.297260</td>\n",
       "      <td>0.000000</td>\n",
       "      <td>0.784910</td>\n",
       "      <td>0.902877</td>\n",
       "      <td>0.926080</td>\n",
       "      <td>0.991498</td>\n",
       "    </tr>\n",
       "    <tr>\n",
       "      <th>59</th>\n",
       "      <td>2340.0</td>\n",
       "      <td>0.174355</td>\n",
       "      <td>0.050085</td>\n",
       "      <td>0.000000</td>\n",
       "      <td>0.143656</td>\n",
       "      <td>0.159639</td>\n",
       "      <td>0.196811</td>\n",
       "      <td>1.000000</td>\n",
       "    </tr>\n",
       "    <tr>\n",
       "      <th>63</th>\n",
       "      <td>2340.0</td>\n",
       "      <td>0.068956</td>\n",
       "      <td>0.037123</td>\n",
       "      <td>0.000000</td>\n",
       "      <td>0.048390</td>\n",
       "      <td>0.063267</td>\n",
       "      <td>0.081300</td>\n",
       "      <td>1.000000</td>\n",
       "    </tr>\n",
       "    <tr>\n",
       "      <th>64</th>\n",
       "      <td>2340.0</td>\n",
       "      <td>0.341188</td>\n",
       "      <td>0.135727</td>\n",
       "      <td>0.004252</td>\n",
       "      <td>0.250498</td>\n",
       "      <td>0.319817</td>\n",
       "      <td>0.404661</td>\n",
       "      <td>1.000000</td>\n",
       "    </tr>\n",
       "    <tr>\n",
       "      <th>65</th>\n",
       "      <td>2340.0</td>\n",
       "      <td>0.204380</td>\n",
       "      <td>0.066580</td>\n",
       "      <td>0.000000</td>\n",
       "      <td>0.162528</td>\n",
       "      <td>0.194659</td>\n",
       "      <td>0.232724</td>\n",
       "      <td>1.000000</td>\n",
       "    </tr>\n",
       "    <tr>\n",
       "      <th>68</th>\n",
       "      <td>2340.0</td>\n",
       "      <td>0.744515</td>\n",
       "      <td>0.054306</td>\n",
       "      <td>0.105704</td>\n",
       "      <td>0.718209</td>\n",
       "      <td>0.746191</td>\n",
       "      <td>0.775879</td>\n",
       "      <td>1.000000</td>\n",
       "    </tr>\n",
       "    <tr>\n",
       "      <th>70</th>\n",
       "      <td>2340.0</td>\n",
       "      <td>0.259947</td>\n",
       "      <td>0.064496</td>\n",
       "      <td>0.006816</td>\n",
       "      <td>0.220110</td>\n",
       "      <td>0.256651</td>\n",
       "      <td>0.300781</td>\n",
       "      <td>1.000000</td>\n",
       "    </tr>\n",
       "    <tr>\n",
       "      <th>100</th>\n",
       "      <td>2340.0</td>\n",
       "      <td>0.569362</td>\n",
       "      <td>0.066903</td>\n",
       "      <td>0.000000</td>\n",
       "      <td>0.529149</td>\n",
       "      <td>0.566038</td>\n",
       "      <td>0.603774</td>\n",
       "      <td>1.000000</td>\n",
       "    </tr>\n",
       "  </tbody>\n",
       "</table>\n",
       "</div>"
      ],
      "text/plain": [
       "      count      mean       std       min       25%       50%       75%  \\\n",
       "32   2340.0  0.101254  0.090525  0.000000  0.066434  0.089148  0.113897   \n",
       "38   2340.0  0.580918  0.138007  0.000000  0.509467  0.571091  0.626616   \n",
       "40   2340.0  0.761599  0.297260  0.000000  0.784910  0.902877  0.926080   \n",
       "59   2340.0  0.174355  0.050085  0.000000  0.143656  0.159639  0.196811   \n",
       "63   2340.0  0.068956  0.037123  0.000000  0.048390  0.063267  0.081300   \n",
       "64   2340.0  0.341188  0.135727  0.004252  0.250498  0.319817  0.404661   \n",
       "65   2340.0  0.204380  0.066580  0.000000  0.162528  0.194659  0.232724   \n",
       "68   2340.0  0.744515  0.054306  0.105704  0.718209  0.746191  0.775879   \n",
       "70   2340.0  0.259947  0.064496  0.006816  0.220110  0.256651  0.300781   \n",
       "100  2340.0  0.569362  0.066903  0.000000  0.529149  0.566038  0.603774   \n",
       "\n",
       "          max  \n",
       "32   1.000000  \n",
       "38   1.000000  \n",
       "40   0.991498  \n",
       "59   1.000000  \n",
       "63   1.000000  \n",
       "64   1.000000  \n",
       "65   1.000000  \n",
       "68   1.000000  \n",
       "70   1.000000  \n",
       "100  1.000000  "
      ]
     },
     "execution_count": 51,
     "metadata": {},
     "output_type": "execute_result"
    }
   ],
   "source": [
    "X_train.describe().T.head(10)"
   ]
  },
  {
   "cell_type": "code",
   "execution_count": 52,
   "metadata": {},
   "outputs": [
    {
     "data": {
      "text/html": [
       "<div>\n",
       "<style scoped>\n",
       "    .dataframe tbody tr th:only-of-type {\n",
       "        vertical-align: middle;\n",
       "    }\n",
       "\n",
       "    .dataframe tbody tr th {\n",
       "        vertical-align: top;\n",
       "    }\n",
       "\n",
       "    .dataframe thead th {\n",
       "        text-align: right;\n",
       "    }\n",
       "</style>\n",
       "<table border=\"1\" class=\"dataframe\">\n",
       "  <thead>\n",
       "    <tr style=\"text-align: right;\">\n",
       "      <th></th>\n",
       "      <th>count</th>\n",
       "      <th>mean</th>\n",
       "      <th>std</th>\n",
       "      <th>min</th>\n",
       "      <th>25%</th>\n",
       "      <th>50%</th>\n",
       "      <th>75%</th>\n",
       "      <th>max</th>\n",
       "    </tr>\n",
       "  </thead>\n",
       "  <tbody>\n",
       "    <tr>\n",
       "      <th>32</th>\n",
       "      <td>586.0</td>\n",
       "      <td>0.099197</td>\n",
       "      <td>0.082139</td>\n",
       "      <td>0.001004</td>\n",
       "      <td>0.066452</td>\n",
       "      <td>0.090415</td>\n",
       "      <td>0.113657</td>\n",
       "      <td>0.888693</td>\n",
       "    </tr>\n",
       "    <tr>\n",
       "      <th>38</th>\n",
       "      <td>586.0</td>\n",
       "      <td>0.581399</td>\n",
       "      <td>0.133511</td>\n",
       "      <td>0.007455</td>\n",
       "      <td>0.501370</td>\n",
       "      <td>0.567102</td>\n",
       "      <td>0.621409</td>\n",
       "      <td>1.000000</td>\n",
       "    </tr>\n",
       "    <tr>\n",
       "      <th>40</th>\n",
       "      <td>586.0</td>\n",
       "      <td>0.762238</td>\n",
       "      <td>0.294209</td>\n",
       "      <td>0.008171</td>\n",
       "      <td>0.784910</td>\n",
       "      <td>0.902574</td>\n",
       "      <td>0.926552</td>\n",
       "      <td>1.000000</td>\n",
       "    </tr>\n",
       "    <tr>\n",
       "      <th>59</th>\n",
       "      <td>586.0</td>\n",
       "      <td>0.171068</td>\n",
       "      <td>0.045160</td>\n",
       "      <td>0.039479</td>\n",
       "      <td>0.141457</td>\n",
       "      <td>0.158324</td>\n",
       "      <td>0.190726</td>\n",
       "      <td>0.419360</td>\n",
       "    </tr>\n",
       "    <tr>\n",
       "      <th>63</th>\n",
       "      <td>586.0</td>\n",
       "      <td>0.069521</td>\n",
       "      <td>0.032465</td>\n",
       "      <td>0.010430</td>\n",
       "      <td>0.048592</td>\n",
       "      <td>0.063545</td>\n",
       "      <td>0.081741</td>\n",
       "      <td>0.280454</td>\n",
       "    </tr>\n",
       "    <tr>\n",
       "      <th>64</th>\n",
       "      <td>586.0</td>\n",
       "      <td>0.349779</td>\n",
       "      <td>0.140640</td>\n",
       "      <td>0.000000</td>\n",
       "      <td>0.257132</td>\n",
       "      <td>0.327603</td>\n",
       "      <td>0.423051</td>\n",
       "      <td>0.984121</td>\n",
       "    </tr>\n",
       "    <tr>\n",
       "      <th>65</th>\n",
       "      <td>586.0</td>\n",
       "      <td>0.207146</td>\n",
       "      <td>0.062842</td>\n",
       "      <td>0.039161</td>\n",
       "      <td>0.167535</td>\n",
       "      <td>0.195757</td>\n",
       "      <td>0.239007</td>\n",
       "      <td>0.462212</td>\n",
       "    </tr>\n",
       "    <tr>\n",
       "      <th>68</th>\n",
       "      <td>586.0</td>\n",
       "      <td>0.744155</td>\n",
       "      <td>0.051969</td>\n",
       "      <td>0.000000</td>\n",
       "      <td>0.718102</td>\n",
       "      <td>0.743634</td>\n",
       "      <td>0.774715</td>\n",
       "      <td>0.857768</td>\n",
       "    </tr>\n",
       "    <tr>\n",
       "      <th>70</th>\n",
       "      <td>586.0</td>\n",
       "      <td>0.260279</td>\n",
       "      <td>0.063456</td>\n",
       "      <td>0.000000</td>\n",
       "      <td>0.220620</td>\n",
       "      <td>0.261968</td>\n",
       "      <td>0.300316</td>\n",
       "      <td>0.420381</td>\n",
       "    </tr>\n",
       "    <tr>\n",
       "      <th>100</th>\n",
       "      <td>586.0</td>\n",
       "      <td>0.570589</td>\n",
       "      <td>0.066459</td>\n",
       "      <td>0.113208</td>\n",
       "      <td>0.529446</td>\n",
       "      <td>0.566038</td>\n",
       "      <td>0.603774</td>\n",
       "      <td>0.981132</td>\n",
       "    </tr>\n",
       "  </tbody>\n",
       "</table>\n",
       "</div>"
      ],
      "text/plain": [
       "     count      mean       std       min       25%       50%       75%  \\\n",
       "32   586.0  0.099197  0.082139  0.001004  0.066452  0.090415  0.113657   \n",
       "38   586.0  0.581399  0.133511  0.007455  0.501370  0.567102  0.621409   \n",
       "40   586.0  0.762238  0.294209  0.008171  0.784910  0.902574  0.926552   \n",
       "59   586.0  0.171068  0.045160  0.039479  0.141457  0.158324  0.190726   \n",
       "63   586.0  0.069521  0.032465  0.010430  0.048592  0.063545  0.081741   \n",
       "64   586.0  0.349779  0.140640  0.000000  0.257132  0.327603  0.423051   \n",
       "65   586.0  0.207146  0.062842  0.039161  0.167535  0.195757  0.239007   \n",
       "68   586.0  0.744155  0.051969  0.000000  0.718102  0.743634  0.774715   \n",
       "70   586.0  0.260279  0.063456  0.000000  0.220620  0.261968  0.300316   \n",
       "100  586.0  0.570589  0.066459  0.113208  0.529446  0.566038  0.603774   \n",
       "\n",
       "          max  \n",
       "32   0.888693  \n",
       "38   1.000000  \n",
       "40   1.000000  \n",
       "59   0.419360  \n",
       "63   0.280454  \n",
       "64   0.984121  \n",
       "65   0.462212  \n",
       "68   0.857768  \n",
       "70   0.420381  \n",
       "100  0.981132  "
      ]
     },
     "execution_count": 52,
     "metadata": {},
     "output_type": "execute_result"
    }
   ],
   "source": [
    "X_test.describe().T.head(10)"
   ]
  },
  {
   "attachments": {},
   "cell_type": "markdown",
   "metadata": {},
   "source": [
    "**Observation**\n",
    "\n",
    "- It can be observed that the standard deviation and mean values of X_scaled, X_train and X_test are similar"
   ]
  },
  {
   "cell_type": "code",
   "execution_count": 53,
   "metadata": {},
   "outputs": [],
   "source": [
    "def plot_distributions(train, test, feature):\n",
    "    plt.hist(train[feature], bins=50, alpha=0.5, label=\"Train\")\n",
    "    plt.hist(test[feature], bins=50, alpha=0.5, label=\"Test\")\n",
    "    plt.legend(loc=\"upper right\")\n",
    "    plt.title(\"Distribution of Feature: \" + feature)\n",
    "    plt.xlabel(\"Value\")\n",
    "    plt.ylabel(\"Frequency\")\n",
    "    plt.show()"
   ]
  },
  {
   "cell_type": "code",
   "execution_count": 54,
   "metadata": {},
   "outputs": [
    {
     "data": {
      "image/png": "[encoded data removed]",
      "text/plain": [
       "<Figure size 640x480 with 1 Axes>"
      ]
     },
     "metadata": {},
     "output_type": "display_data"
    },
    {
     "data": {
      "image/png": "[encoded data removed]",
      "text/plain": [
       "<Figure size 640x480 with 1 Axes>"
      ]
     },
     "metadata": {},
     "output_type": "display_data"
    },
    {
     "data": {
      "image/png": "[encoded data removed]",
      "text/plain": [
       "<Figure size 640x480 with 1 Axes>"
      ]
     },
     "metadata": {},
     "output_type": "display_data"
    },
    {
     "data": {
      "image/png": "[encoded data removed]",
      "text/plain": [
       "<Figure size 640x480 with 1 Axes>"
      ]
     },
     "metadata": {},
     "output_type": "display_data"
    },
    {
     "data": {
      "image/png": "[encoded data removed]",
      "text/plain": [
       "<Figure size 640x480 with 1 Axes>"
      ]
     },
     "metadata": {},
     "output_type": "display_data"
    }
   ],
   "source": [
    "for column in pd.Series(X_train.columns).sample(5):\n",
    "    plot_distributions(X_train, X_test, column)"
   ]
  },
  {
   "attachments": {},
   "cell_type": "markdown",
   "metadata": {},
   "source": [
    "Randomly picked 5 features to visualize the train test distribution\n",
    "\n",
    "It can be observed that these distributions are similar suggesting that the train-test split is representative of the overall data distribution"
   ]
  },
  {
   "attachments": {},
   "cell_type": "markdown",
   "metadata": {},
   "source": [
    "### Model training, testing and tuning"
   ]
  },
  {
   "cell_type": "code",
   "execution_count": 55,
   "metadata": {},
   "outputs": [
    {
     "data": {
      "text/plain": [
       "0.7064846416382252"
      ]
     },
     "execution_count": 55,
     "metadata": {},
     "output_type": "execute_result"
    }
   ],
   "source": [
    "log_reg_model = LogisticRegression(random_state=13)\n",
    "log_reg_model.fit(X_train, y_train)\n",
    "log_reg_model.score(X_test, y_test)"
   ]
  },
  {
   "cell_type": "code",
   "execution_count": 56,
   "metadata": {},
   "outputs": [
    {
     "data": {
      "image/png": "[encoded data removed]",
      "text/plain": [
       "<Figure size 640x480 with 1 Axes>"
      ]
     },
     "metadata": {},
     "output_type": "display_data"
    },
    {
     "name": "stdout",
     "output_type": "stream",
     "text": [
      "KFold score mean - 0.7042735042735042 \n",
      "\n"
     ]
    },
    {
     "data": {
      "image/png": "[encoded data removed]",
      "text/plain": [
       "<Figure size 640x480 with 1 Axes>"
      ]
     },
     "metadata": {},
     "output_type": "display_data"
    },
    {
     "name": "stdout",
     "output_type": "stream",
     "text": [
      "StratifiedKFold score mean - 0.7021367521367521 \n",
      "\n"
     ]
    }
   ],
   "source": [
    "n_splits = 10\n",
    "scores = {}\n",
    "model = LogisticRegression(random_state=13)\n",
    "for technique in [KFold(n_splits=n_splits), StratifiedKFold(n_splits=n_splits)]:\n",
    "    results = cross_val_score(model, X_train, y_train, cv=technique)\n",
    "    technique_name = technique.__class__.__name__\n",
    "    scores[technique_name] = results\n",
    "    sns.lineplot(results)\n",
    "    plt.show()\n",
    "    print(f\"{technique_name} score mean - {np.mean(results)} \\n\")"
   ]
  },
  {
   "cell_type": "code",
   "execution_count": 57,
   "metadata": {},
   "outputs": [
    {
     "data": {
      "text/plain": [
       "{'KFold': array([0.70512821, 0.6965812 , 0.67094017, 0.73931624, 0.73076923,\n",
       "        0.67521368, 0.70940171, 0.7008547 , 0.68803419, 0.72649573]),\n",
       " 'StratifiedKFold': array([0.6965812 , 0.69230769, 0.66666667, 0.74358974, 0.6965812 ,\n",
       "        0.6965812 , 0.7008547 , 0.6965812 , 0.69230769, 0.73931624])}"
      ]
     },
     "execution_count": 57,
     "metadata": {},
     "output_type": "execute_result"
    }
   ],
   "source": [
    "scores"
   ]
  },
  {
   "cell_type": "code",
   "execution_count": 58,
   "metadata": {},
   "outputs": [
    {
     "data": {
      "text/plain": [
       "0.6982905982905983"
      ]
     },
     "execution_count": 58,
     "metadata": {},
     "output_type": "execute_result"
    }
   ],
   "source": [
    "# Leave One out cross validation\n",
    "results = cross_val_score(model, X_train, y_train, cv=LeaveOneOut())\n",
    "np.mean(results)"
   ]
  },
  {
   "cell_type": "code",
   "execution_count": 59,
   "metadata": {},
   "outputs": [
    {
     "name": "stdout",
     "output_type": "stream",
     "text": [
      "Fitting 5 folds for each of 100 candidates, totalling 500 fits\n"
     ]
    },
    {
     "data": {
      "text/html": [
       "<style>#sk-container-id-1 {color: black;background-color: white;}#sk-container-id-1 pre{padding: 0;}#sk-container-id-1 div.sk-toggleable {background-color: white;}#sk-container-id-1 label.sk-toggleable__label {cursor: pointer;display: block;width: 100%;margin-bottom: 0;padding: 0.3em;box-sizing: border-box;text-align: center;}#sk-container-id-1 label.sk-toggleable__label-arrow:before {content: \"▸\";float: left;margin-right: 0.25em;color: #696969;}#sk-container-id-1 label.sk-toggleable__label-arrow:hover:before {color: black;}#sk-container-id-1 div.sk-estimator:hover label.sk-toggleable__label-arrow:before {color: black;}#sk-container-id-1 div.sk-toggleable__content {max-height: 0;max-width: 0;overflow: hidden;text-align: left;background-color: #f0f8ff;}#sk-container-id-1 div.sk-toggleable__content pre {margin: 0.2em;color: black;border-radius: 0.25em;background-color: #f0f8ff;}#sk-container-id-1 input.sk-toggleable__control:checked~div.sk-toggleable__content {max-height: 200px;max-width: 100%;overflow: auto;}#sk-container-id-1 input.sk-toggleable__control:checked~label.sk-toggleable__label-arrow:before {content: \"▾\";}#sk-container-id-1 div.sk-estimator input.sk-toggleable__control:checked~label.sk-toggleable__label {background-color: #d4ebff;}#sk-container-id-1 div.sk-label input.sk-toggleable__control:checked~label.sk-toggleable__label {background-color: #d4ebff;}#sk-container-id-1 input.sk-hidden--visually {border: 0;clip: rect(1px 1px 1px 1px);clip: rect(1px, 1px, 1px, 1px);height: 1px;margin: -1px;overflow: hidden;padding: 0;position: absolute;width: 1px;}#sk-container-id-1 div.sk-estimator {font-family: monospace;background-color: #f0f8ff;border: 1px dotted black;border-radius: 0.25em;box-sizing: border-box;margin-bottom: 0.5em;}#sk-container-id-1 div.sk-estimator:hover {background-color: #d4ebff;}#sk-container-id-1 div.sk-parallel-item::after {content: \"\";width: 100%;border-bottom: 1px solid gray;flex-grow: 1;}#sk-container-id-1 div.sk-label:hover label.sk-toggleable__label {background-color: #d4ebff;}#sk-container-id-1 div.sk-serial::before {content: \"\";position: absolute;border-left: 1px solid gray;box-sizing: border-box;top: 0;bottom: 0;left: 50%;z-index: 0;}#sk-container-id-1 div.sk-serial {display: flex;flex-direction: column;align-items: center;background-color: white;padding-right: 0.2em;padding-left: 0.2em;position: relative;}#sk-container-id-1 div.sk-item {position: relative;z-index: 1;}#sk-container-id-1 div.sk-parallel {display: flex;align-items: stretch;justify-content: center;background-color: white;position: relative;}#sk-container-id-1 div.sk-item::before, #sk-container-id-1 div.sk-parallel-item::before {content: \"\";position: absolute;border-left: 1px solid gray;box-sizing: border-box;top: 0;bottom: 0;left: 50%;z-index: -1;}#sk-container-id-1 div.sk-parallel-item {display: flex;flex-direction: column;z-index: 1;position: relative;background-color: white;}#sk-container-id-1 div.sk-parallel-item:first-child::after {align-self: flex-end;width: 50%;}#sk-container-id-1 div.sk-parallel-item:last-child::after {align-self: flex-start;width: 50%;}#sk-container-id-1 div.sk-parallel-item:only-child::after {width: 0;}#sk-container-id-1 div.sk-dashed-wrapped {border: 1px dashed gray;margin: 0 0.4em 0.5em 0.4em;box-sizing: border-box;padding-bottom: 0.4em;background-color: white;}#sk-container-id-1 div.sk-label label {font-family: monospace;font-weight: bold;display: inline-block;line-height: 1.2em;}#sk-container-id-1 div.sk-label-container {text-align: center;}#sk-container-id-1 div.sk-container {/* jupyter's `normalize.less` sets `[hidden] { display: none; }` but bootstrap.min.css set `[hidden] { display: none !important; }` so we also need the `!important` here to be able to override the default hidden behavior on the sphinx rendered scikit-learn.org. See: https://github.com/scikit-learn/scikit-learn/issues/21755 */display: inline-block !important;position: relative;}#sk-container-id-1 div.sk-text-repr-fallback {display: none;}</style><div id=\"sk-container-id-1\" class=\"sk-top-container\"><div class=\"sk-text-repr-fallback\"><pre>RandomizedSearchCV(cv=5, estimator=LogisticRegression(), n_iter=100,\n",
       "                   param_distributions={&#x27;C&#x27;: [0.01, 0.1, 0.5, 1, 10, 100],\n",
       "                                        &#x27;fit_intercept&#x27;: [True, False],\n",
       "                                        &#x27;penalty&#x27;: [&#x27;l1&#x27;, &#x27;l2&#x27;, &#x27;elasticnet&#x27;,\n",
       "                                                    &#x27;none&#x27;],\n",
       "                                        &#x27;solver&#x27;: [&#x27;newton-cg&#x27;, &#x27;lbfgs&#x27;,\n",
       "                                                   &#x27;liblinear&#x27;, &#x27;sag&#x27;,\n",
       "                                                   &#x27;saga&#x27;]},\n",
       "                   random_state=13, scoring=&#x27;accuracy&#x27;, verbose=1)</pre><b>In a Jupyter environment, please rerun this cell to show the HTML representation or trust the notebook. <br />On GitHub, the HTML representation is unable to render, please try loading this page with nbviewer.org.</b></div><div class=\"sk-container\" hidden><div class=\"sk-item sk-dashed-wrapped\"><div class=\"sk-label-container\"><div class=\"sk-label sk-toggleable\"><input class=\"sk-toggleable__control sk-hidden--visually\" id=\"sk-estimator-id-1\" type=\"checkbox\" ><label for=\"sk-estimator-id-1\" class=\"sk-toggleable__label sk-toggleable__label-arrow\">RandomizedSearchCV</label><div class=\"sk-toggleable__content\"><pre>RandomizedSearchCV(cv=5, estimator=LogisticRegression(), n_iter=100,\n",
       "                   param_distributions={&#x27;C&#x27;: [0.01, 0.1, 0.5, 1, 10, 100],\n",
       "                                        &#x27;fit_intercept&#x27;: [True, False],\n",
       "                                        &#x27;penalty&#x27;: [&#x27;l1&#x27;, &#x27;l2&#x27;, &#x27;elasticnet&#x27;,\n",
       "                                                    &#x27;none&#x27;],\n",
       "                                        &#x27;solver&#x27;: [&#x27;newton-cg&#x27;, &#x27;lbfgs&#x27;,\n",
       "                                                   &#x27;liblinear&#x27;, &#x27;sag&#x27;,\n",
       "                                                   &#x27;saga&#x27;]},\n",
       "                   random_state=13, scoring=&#x27;accuracy&#x27;, verbose=1)</pre></div></div></div><div class=\"sk-parallel\"><div class=\"sk-parallel-item\"><div class=\"sk-item\"><div class=\"sk-label-container\"><div class=\"sk-label sk-toggleable\"><input class=\"sk-toggleable__control sk-hidden--visually\" id=\"sk-estimator-id-2\" type=\"checkbox\" ><label for=\"sk-estimator-id-2\" class=\"sk-toggleable__label sk-toggleable__label-arrow\">estimator: LogisticRegression</label><div class=\"sk-toggleable__content\"><pre>LogisticRegression()</pre></div></div></div><div class=\"sk-serial\"><div class=\"sk-item\"><div class=\"sk-estimator sk-toggleable\"><input class=\"sk-toggleable__control sk-hidden--visually\" id=\"sk-estimator-id-3\" type=\"checkbox\" ><label for=\"sk-estimator-id-3\" class=\"sk-toggleable__label sk-toggleable__label-arrow\">LogisticRegression</label><div class=\"sk-toggleable__content\"><pre>LogisticRegression()</pre></div></div></div></div></div></div></div></div></div></div>"
      ],
      "text/plain": [
       "RandomizedSearchCV(cv=5, estimator=LogisticRegression(), n_iter=100,\n",
       "                   param_distributions={'C': [0.01, 0.1, 0.5, 1, 10, 100],\n",
       "                                        'fit_intercept': [True, False],\n",
       "                                        'penalty': ['l1', 'l2', 'elasticnet',\n",
       "                                                    'none'],\n",
       "                                        'solver': ['newton-cg', 'lbfgs',\n",
       "                                                   'liblinear', 'sag',\n",
       "                                                   'saga']},\n",
       "                   random_state=13, scoring='accuracy', verbose=1)"
      ]
     },
     "execution_count": 59,
     "metadata": {},
     "output_type": "execute_result"
    }
   ],
   "source": [
    "clf = LogisticRegression()\n",
    "param_dist = {\n",
    "    \"penalty\": [\"l1\", \"l2\", \"elasticnet\", \"none\"],\n",
    "    \"C\": [0.01, 0.1, 0.5, 1, 10, 100],\n",
    "    \"fit_intercept\": [True, False],\n",
    "    \"solver\": [\"newton-cg\", \"lbfgs\", \"liblinear\", \"sag\", \"saga\"],\n",
    "}\n",
    "\n",
    "random_cv = RandomizedSearchCV(\n",
    "    clf,\n",
    "    param_distributions=param_dist,\n",
    "    n_iter=100,\n",
    "    cv=5,\n",
    "    scoring=\"accuracy\",\n",
    "    verbose=1,\n",
    "    random_state=13,\n",
    ")\n",
    "\n",
    "random_cv.fit(X_train, y_train)"
   ]
  },
  {
   "cell_type": "code",
   "execution_count": 60,
   "metadata": {},
   "outputs": [
    {
     "name": "stdout",
     "output_type": "stream",
     "text": [
      "RandomSearchCV\n",
      "Best params  - {'solver': 'saga', 'penalty': 'l1', 'fit_intercept': True, 'C': 0.5}\n",
      "Best score   - 0.711111111111111\n"
     ]
    }
   ],
   "source": [
    "print(\"RandomSearchCV\")\n",
    "print(f\"Best params  - {random_cv.best_params_}\")\n",
    "print(f\"Best score   - {random_cv.best_score_}\")"
   ]
  },
  {
   "cell_type": "code",
   "execution_count": 61,
   "metadata": {},
   "outputs": [
    {
     "data": {
      "text/html": [
       "<style>#sk-container-id-2 {color: black;background-color: white;}#sk-container-id-2 pre{padding: 0;}#sk-container-id-2 div.sk-toggleable {background-color: white;}#sk-container-id-2 label.sk-toggleable__label {cursor: pointer;display: block;width: 100%;margin-bottom: 0;padding: 0.3em;box-sizing: border-box;text-align: center;}#sk-container-id-2 label.sk-toggleable__label-arrow:before {content: \"▸\";float: left;margin-right: 0.25em;color: #696969;}#sk-container-id-2 label.sk-toggleable__label-arrow:hover:before {color: black;}#sk-container-id-2 div.sk-estimator:hover label.sk-toggleable__label-arrow:before {color: black;}#sk-container-id-2 div.sk-toggleable__content {max-height: 0;max-width: 0;overflow: hidden;text-align: left;background-color: #f0f8ff;}#sk-container-id-2 div.sk-toggleable__content pre {margin: 0.2em;color: black;border-radius: 0.25em;background-color: #f0f8ff;}#sk-container-id-2 input.sk-toggleable__control:checked~div.sk-toggleable__content {max-height: 200px;max-width: 100%;overflow: auto;}#sk-container-id-2 input.sk-toggleable__control:checked~label.sk-toggleable__label-arrow:before {content: \"▾\";}#sk-container-id-2 div.sk-estimator input.sk-toggleable__control:checked~label.sk-toggleable__label {background-color: #d4ebff;}#sk-container-id-2 div.sk-label input.sk-toggleable__control:checked~label.sk-toggleable__label {background-color: #d4ebff;}#sk-container-id-2 input.sk-hidden--visually {border: 0;clip: rect(1px 1px 1px 1px);clip: rect(1px, 1px, 1px, 1px);height: 1px;margin: -1px;overflow: hidden;padding: 0;position: absolute;width: 1px;}#sk-container-id-2 div.sk-estimator {font-family: monospace;background-color: #f0f8ff;border: 1px dotted black;border-radius: 0.25em;box-sizing: border-box;margin-bottom: 0.5em;}#sk-container-id-2 div.sk-estimator:hover {background-color: #d4ebff;}#sk-container-id-2 div.sk-parallel-item::after {content: \"\";width: 100%;border-bottom: 1px solid gray;flex-grow: 1;}#sk-container-id-2 div.sk-label:hover label.sk-toggleable__label {background-color: #d4ebff;}#sk-container-id-2 div.sk-serial::before {content: \"\";position: absolute;border-left: 1px solid gray;box-sizing: border-box;top: 0;bottom: 0;left: 50%;z-index: 0;}#sk-container-id-2 div.sk-serial {display: flex;flex-direction: column;align-items: center;background-color: white;padding-right: 0.2em;padding-left: 0.2em;position: relative;}#sk-container-id-2 div.sk-item {position: relative;z-index: 1;}#sk-container-id-2 div.sk-parallel {display: flex;align-items: stretch;justify-content: center;background-color: white;position: relative;}#sk-container-id-2 div.sk-item::before, #sk-container-id-2 div.sk-parallel-item::before {content: \"\";position: absolute;border-left: 1px solid gray;box-sizing: border-box;top: 0;bottom: 0;left: 50%;z-index: -1;}#sk-container-id-2 div.sk-parallel-item {display: flex;flex-direction: column;z-index: 1;position: relative;background-color: white;}#sk-container-id-2 div.sk-parallel-item:first-child::after {align-self: flex-end;width: 50%;}#sk-container-id-2 div.sk-parallel-item:last-child::after {align-self: flex-start;width: 50%;}#sk-container-id-2 div.sk-parallel-item:only-child::after {width: 0;}#sk-container-id-2 div.sk-dashed-wrapped {border: 1px dashed gray;margin: 0 0.4em 0.5em 0.4em;box-sizing: border-box;padding-bottom: 0.4em;background-color: white;}#sk-container-id-2 div.sk-label label {font-family: monospace;font-weight: bold;display: inline-block;line-height: 1.2em;}#sk-container-id-2 div.sk-label-container {text-align: center;}#sk-container-id-2 div.sk-container {/* jupyter's `normalize.less` sets `[hidden] { display: none; }` but bootstrap.min.css set `[hidden] { display: none !important; }` so we also need the `!important` here to be able to override the default hidden behavior on the sphinx rendered scikit-learn.org. See: https://github.com/scikit-learn/scikit-learn/issues/21755 */display: inline-block !important;position: relative;}#sk-container-id-2 div.sk-text-repr-fallback {display: none;}</style><div id=\"sk-container-id-2\" class=\"sk-top-container\"><div class=\"sk-text-repr-fallback\"><pre>GridSearchCV(cv=5, estimator=LogisticRegression(),\n",
       "             param_grid={&#x27;C&#x27;: [0.01, 0.1, 0.5, 1, 10, 100],\n",
       "                         &#x27;fit_intercept&#x27;: [True, False],\n",
       "                         &#x27;penalty&#x27;: [&#x27;l1&#x27;, &#x27;l2&#x27;, &#x27;elasticnet&#x27;, &#x27;none&#x27;],\n",
       "                         &#x27;solver&#x27;: [&#x27;newton-cg&#x27;, &#x27;lbfgs&#x27;, &#x27;liblinear&#x27;, &#x27;sag&#x27;,\n",
       "                                    &#x27;saga&#x27;]},\n",
       "             scoring=&#x27;accuracy&#x27;)</pre><b>In a Jupyter environment, please rerun this cell to show the HTML representation or trust the notebook. <br />On GitHub, the HTML representation is unable to render, please try loading this page with nbviewer.org.</b></div><div class=\"sk-container\" hidden><div class=\"sk-item sk-dashed-wrapped\"><div class=\"sk-label-container\"><div class=\"sk-label sk-toggleable\"><input class=\"sk-toggleable__control sk-hidden--visually\" id=\"sk-estimator-id-4\" type=\"checkbox\" ><label for=\"sk-estimator-id-4\" class=\"sk-toggleable__label sk-toggleable__label-arrow\">GridSearchCV</label><div class=\"sk-toggleable__content\"><pre>GridSearchCV(cv=5, estimator=LogisticRegression(),\n",
       "             param_grid={&#x27;C&#x27;: [0.01, 0.1, 0.5, 1, 10, 100],\n",
       "                         &#x27;fit_intercept&#x27;: [True, False],\n",
       "                         &#x27;penalty&#x27;: [&#x27;l1&#x27;, &#x27;l2&#x27;, &#x27;elasticnet&#x27;, &#x27;none&#x27;],\n",
       "                         &#x27;solver&#x27;: [&#x27;newton-cg&#x27;, &#x27;lbfgs&#x27;, &#x27;liblinear&#x27;, &#x27;sag&#x27;,\n",
       "                                    &#x27;saga&#x27;]},\n",
       "             scoring=&#x27;accuracy&#x27;)</pre></div></div></div><div class=\"sk-parallel\"><div class=\"sk-parallel-item\"><div class=\"sk-item\"><div class=\"sk-label-container\"><div class=\"sk-label sk-toggleable\"><input class=\"sk-toggleable__control sk-hidden--visually\" id=\"sk-estimator-id-5\" type=\"checkbox\" ><label for=\"sk-estimator-id-5\" class=\"sk-toggleable__label sk-toggleable__label-arrow\">estimator: LogisticRegression</label><div class=\"sk-toggleable__content\"><pre>LogisticRegression()</pre></div></div></div><div class=\"sk-serial\"><div class=\"sk-item\"><div class=\"sk-estimator sk-toggleable\"><input class=\"sk-toggleable__control sk-hidden--visually\" id=\"sk-estimator-id-6\" type=\"checkbox\" ><label for=\"sk-estimator-id-6\" class=\"sk-toggleable__label sk-toggleable__label-arrow\">LogisticRegression</label><div class=\"sk-toggleable__content\"><pre>LogisticRegression()</pre></div></div></div></div></div></div></div></div></div></div>"
      ],
      "text/plain": [
       "GridSearchCV(cv=5, estimator=LogisticRegression(),\n",
       "             param_grid={'C': [0.01, 0.1, 0.5, 1, 10, 100],\n",
       "                         'fit_intercept': [True, False],\n",
       "                         'penalty': ['l1', 'l2', 'elasticnet', 'none'],\n",
       "                         'solver': ['newton-cg', 'lbfgs', 'liblinear', 'sag',\n",
       "                                    'saga']},\n",
       "             scoring='accuracy')"
      ]
     },
     "execution_count": 61,
     "metadata": {},
     "output_type": "execute_result"
    }
   ],
   "source": [
    "grid_search = GridSearchCV(clf, param_dist, cv=5, scoring=\"accuracy\")\n",
    "grid_search.fit(X_train, y_train)"
   ]
  },
  {
   "cell_type": "code",
   "execution_count": 62,
   "metadata": {},
   "outputs": [
    {
     "name": "stdout",
     "output_type": "stream",
     "text": [
      "GridSearchCV\n",
      "Best params  - {'C': 0.5, 'fit_intercept': True, 'penalty': 'l1', 'solver': 'saga'}\n",
      "Best score   - 0.711111111111111\n"
     ]
    }
   ],
   "source": [
    "print(\"GridSearchCV\")\n",
    "print(f\"Best params  - {grid_search.best_params_}\")\n",
    "print(f\"Best score   - {grid_search.best_score_}\")"
   ]
  },
  {
   "attachments": {},
   "cell_type": "markdown",
   "metadata": {},
   "source": [
    "Note: After exploring GridSearchCV the best parameters seem to be the same as one foudn with RandomSearchCV."
   ]
  },
  {
   "attachments": {},
   "cell_type": "markdown",
   "metadata": {},
   "source": [
    "The initial 500+ features are alerady reduced down to 21 features but we'll be using the original data (**df_clean**) to try other methods. \n",
    "\n",
    "We can attempt to apply methods from **sklearn.feature_selection** and other techniques to see if we find some more improvement in the model performance on the original data."
   ]
  },
  {
   "cell_type": "code",
   "execution_count": 63,
   "metadata": {},
   "outputs": [
    {
     "data": {
      "text/plain": [
       "(1567, 559)"
      ]
     },
     "execution_count": 63,
     "metadata": {},
     "output_type": "execute_result"
    }
   ],
   "source": [
    "df_clean.shape"
   ]
  },
  {
   "cell_type": "code",
   "execution_count": 64,
   "metadata": {},
   "outputs": [],
   "source": [
    "X = df_clean.drop(\"Pass/Fail\", axis=1)\n",
    "y = df_clean[\"Pass/Fail\"].astype(\"category\").cat.codes"
   ]
  },
  {
   "cell_type": "code",
   "execution_count": 65,
   "metadata": {},
   "outputs": [
    {
     "data": {
      "text/plain": [
       "(1567, 558)"
      ]
     },
     "execution_count": 65,
     "metadata": {},
     "output_type": "execute_result"
    }
   ],
   "source": [
    "X.shape"
   ]
  },
  {
   "cell_type": "code",
   "execution_count": 66,
   "metadata": {},
   "outputs": [
    {
     "data": {
      "text/plain": [
       "0.8598726114649682"
      ]
     },
     "execution_count": 66,
     "metadata": {},
     "output_type": "execute_result"
    }
   ],
   "source": [
    "# Using StandardScaler instead of MinMaxScaler\n",
    "\n",
    "scaler = StandardScaler()\n",
    "scaler.fit(X)\n",
    "X_scaled = pd.DataFrame(scaler.transform(X), columns=X.columns)\n",
    "\n",
    "X_train, X_test, y_train, y_test = train_test_split(\n",
    "    X_scaled, y, test_size=0.2, random_state=13, shuffle=True, stratify=y\n",
    ")\n",
    "\n",
    "model = LogisticRegression(random_state=13)\n",
    "model.fit(X_train, y_train)\n",
    "model.score(X_test, y_test)"
   ]
  },
  {
   "cell_type": "code",
   "execution_count": 67,
   "metadata": {},
   "outputs": [],
   "source": [
    "def get_cross_val_score(model, X, y, splits=10):\n",
    "    results = cross_val_score(model, X, y, cv=StratifiedKFold(n_splits=splits))\n",
    "    return round(np.mean(results), 2)"
   ]
  },
  {
   "cell_type": "code",
   "execution_count": 68,
   "metadata": {},
   "outputs": [
    {
     "data": {
      "text/plain": [
       "0.89"
      ]
     },
     "execution_count": 68,
     "metadata": {},
     "output_type": "execute_result"
    }
   ],
   "source": [
    "get_cross_val_score(model, X_train, y_train)"
   ]
  },
  {
   "cell_type": "code",
   "execution_count": 69,
   "metadata": {},
   "outputs": [
    {
     "name": "stdout",
     "output_type": "stream",
     "text": [
      "              precision    recall  f1-score   support\n",
      "\n",
      "           0       0.94      0.91      0.92       293\n",
      "           1       0.10      0.14      0.12        21\n",
      "\n",
      "    accuracy                           0.86       314\n",
      "   macro avg       0.52      0.53      0.52       314\n",
      "weighted avg       0.88      0.86      0.87       314\n",
      "\n"
     ]
    }
   ],
   "source": [
    "y_pred = model.predict(X_test)\n",
    "print(classification_report(y_test, y_pred))"
   ]
  },
  {
   "attachments": {},
   "cell_type": "markdown",
   "metadata": {},
   "source": [
    "**Observation**\n",
    "\n",
    "Although the oevrall accuracy shoots up. The predictor does not perform well in comes to **class 1**\n",
    "\n",
    "We'll need to balance the class with SMOTE like done previously"
   ]
  },
  {
   "attachments": {},
   "cell_type": "markdown",
   "metadata": {},
   "source": [
    "**SelectKBest** feature selection method that selects the top K features with the highest scores. The score function used here is f-classif by default. \n",
    "\n",
    "The score function computes a score that measures the relationship between the feature and the target variable, then selects the features with the highest scores to keep in the model. The number of features to keep is specified by the user with the parameter k."
   ]
  },
  {
   "cell_type": "code",
   "execution_count": 70,
   "metadata": {},
   "outputs": [
    {
     "data": {
      "text/plain": [
       "0    1463\n",
       "1    1463\n",
       "dtype: int64"
      ]
     },
     "execution_count": 70,
     "metadata": {},
     "output_type": "execute_result"
    }
   ],
   "source": [
    "sm = SMOTE(sampling_strategy=\"minority\", random_state=13)\n",
    "\n",
    "X, y = sm.fit_resample(X_scaled, y)\n",
    "y.value_counts()"
   ]
  },
  {
   "cell_type": "code",
   "execution_count": 71,
   "metadata": {},
   "outputs": [
    {
     "data": {
      "text/plain": [
       "Index(['28', '30', '56', '59', '79', '80', '103', '121', '122', '123', '124',\n",
       "       '125', '127', '129', '130', '133', '280', '348', '468', '510'],\n",
       "      dtype='object')"
      ]
     },
     "execution_count": 71,
     "metadata": {},
     "output_type": "execute_result"
    }
   ],
   "source": [
    "selector = SelectKBest(k=20)\n",
    "X_new = selector.fit_transform(X, y)\n",
    "\n",
    "X_scaled.columns[selector.get_support()]"
   ]
  },
  {
   "cell_type": "code",
   "execution_count": 72,
   "metadata": {},
   "outputs": [
    {
     "data": {
      "text/plain": [
       "(2926, 20)"
      ]
     },
     "execution_count": 72,
     "metadata": {},
     "output_type": "execute_result"
    }
   ],
   "source": [
    "X_new.shape"
   ]
  },
  {
   "cell_type": "code",
   "execution_count": 73,
   "metadata": {},
   "outputs": [
    {
     "data": {
      "text/plain": [
       "0.72"
      ]
     },
     "execution_count": 73,
     "metadata": {},
     "output_type": "execute_result"
    }
   ],
   "source": [
    "X_train, X_test, y_train, y_test = train_test_split(\n",
    "    X_new, y, test_size=0.2, random_state=13, shuffle=True, stratify=y\n",
    ")\n",
    "model.fit(X_train, y_train)\n",
    "\n",
    "get_cross_val_score(model, X_train, y_train)"
   ]
  },
  {
   "cell_type": "code",
   "execution_count": 74,
   "metadata": {},
   "outputs": [
    {
     "data": {
      "text/plain": [
       "0.75"
      ]
     },
     "execution_count": 74,
     "metadata": {},
     "output_type": "execute_result"
    }
   ],
   "source": [
    "get_cross_val_score(model, X_test, y_test)"
   ]
  },
  {
   "cell_type": "code",
   "execution_count": 75,
   "metadata": {},
   "outputs": [
    {
     "data": {
      "text/plain": [
       "0.69"
      ]
     },
     "execution_count": 75,
     "metadata": {},
     "output_type": "execute_result"
    }
   ],
   "source": [
    "# Try using PCA instead of SelectKBest\n",
    "# We'll choose 20 components to see the results\n",
    "\n",
    "pca_new = PCA(n_components=20)\n",
    "pca_new.fit(X)\n",
    "X_pca = pca_new.transform(X)\n",
    "X_train, X_test, y_train, y_test = train_test_split(\n",
    "    X_pca, y, test_size=0.2, random_state=13, stratify=y\n",
    ")\n",
    "model.fit(X_train, y_train)\n",
    "get_cross_val_score(model, X_train, y_train)"
   ]
  },
  {
   "attachments": {},
   "cell_type": "markdown",
   "metadata": {},
   "source": [
    "**Observation**\n",
    "\n",
    "- Using **SelectKBest** to select 20 features along with StandardScaler has improved the accuracy by ~2%.\n",
    "\t- Also we've quickly reduced our features to 20 with better results compared to removing them based on standard deviation, correlation and using SelectFromModel meta-transformer\n",
    "- There wasn't much improvement noticed in accuracy on using PCA."
   ]
  },
  {
   "cell_type": "code",
   "execution_count": 76,
   "metadata": {},
   "outputs": [
    {
     "name": "stdout",
     "output_type": "stream",
     "text": [
      "              precision    recall  f1-score   support\n",
      "\n",
      "           0       0.75      0.72      0.74       293\n",
      "           1       0.73      0.76      0.75       293\n",
      "\n",
      "    accuracy                           0.74       586\n",
      "   macro avg       0.74      0.74      0.74       586\n",
      "weighted avg       0.74      0.74      0.74       586\n",
      "\n"
     ]
    }
   ],
   "source": [
    "X_train, X_test, y_train, y_test = train_test_split(\n",
    "    X_new, y, test_size=0.2, random_state=13, shuffle=True, stratify=y\n",
    ")\n",
    "model.fit(X_train, y_train)\n",
    "y_pred = model.predict(X_test)\n",
    "print(classification_report(y_test, y_pred))"
   ]
  },
  {
   "attachments": {},
   "cell_type": "markdown",
   "metadata": {},
   "source": [
    "**Observation**\n",
    "\n",
    "- The precision and recall score for both the classes are balanced. \n",
    "- The f1-score which is an idicator of balance between precision and recall is 0.74 (weighted average)\n",
    "- We can try other classification models to see if there are any more improvements"
   ]
  },
  {
   "attachments": {},
   "cell_type": "markdown",
   "metadata": {},
   "source": [
    "Note: Since all intermediate steps should be transformers and implement fit and transform (for SMOTE) in the case of sklearn's pipeline we'll be using imblearn's Pipeline class to fix this."
   ]
  },
  {
   "cell_type": "code",
   "execution_count": 77,
   "metadata": {},
   "outputs": [
    {
     "data": {
      "text/plain": [
       "0.7292993630573248"
      ]
     },
     "execution_count": 77,
     "metadata": {},
     "output_type": "execute_result"
    }
   ],
   "source": [
    "X = df_clean.drop(\"Pass/Fail\", axis=1)\n",
    "y = df_clean[\"Pass/Fail\"].astype(\"category\").cat.codes\n",
    "\n",
    "pipeline = imbpipeline(\n",
    "    steps=[\n",
    "        (\"scaler\", StandardScaler()),\n",
    "        (\"balance\", SMOTE(sampling_strategy=\"minority\", random_state=13)),\n",
    "        (\"feature_select\", SelectKBest(k=20)),\n",
    "        (\"predictor\", LogisticRegression(random_state=13)),\n",
    "    ]\n",
    ")\n",
    "X_train, X_test, y_train, y_test = train_test_split(\n",
    "    X, y, test_size=0.2, random_state=13, shuffle=True, stratify=y\n",
    ")\n",
    "pipeline.fit(X_train, y_train)\n",
    "pipeline.score(X_test, y_test)"
   ]
  },
  {
   "attachments": {},
   "cell_type": "markdown",
   "metadata": {},
   "source": [
    "In the predictor step of the pipeline,\n",
    "\n",
    "```python\n",
    "('predictor', LogisticRegression(random_state=13)\n",
    "```\n",
    "\n",
    "We can replace `LogisticRegression` with compatible classifier to get the results.\n",
    "\n",
    "We will use cross validation technique (StratifiedKfold), Apply hyper-parameter tuning techniques, and display and explain the classification report in detail for a selected classification models.\n",
    "\n",
    "- The candiate models we will work on will be\n",
    "\t- KNeighborsClassifier\n",
    "\t- SVC\n",
    "\t- RandomForestClassifier\n"
   ]
  },
  {
   "cell_type": "code",
   "execution_count": 78,
   "metadata": {},
   "outputs": [],
   "source": [
    "# Scale\n",
    "scaler = StandardScaler()\n",
    "X_scaled = pd.DataFrame(scaler.fit_transform(X), columns=X.columns)\n",
    "\n",
    "# Balance\n",
    "sm = SMOTE(sampling_strategy=\"minority\", random_state=13)\n",
    "X, y = sm.fit_resample(X_scaled, y)\n",
    "\n",
    "# Feature select\n",
    "selector = SelectKBest(k=20)\n",
    "X = selector.fit_transform(X, y)\n",
    "\n",
    "# Train test split\n",
    "X_train, X_test, y_train, y_test = train_test_split(\n",
    "    X, y, test_size=0.2, random_state=13, shuffle=True, stratify=y\n",
    ")"
   ]
  },
  {
   "cell_type": "code",
   "execution_count": 79,
   "metadata": {},
   "outputs": [],
   "source": [
    "def get_report(model, X_train, y_train, X_test, y_test):\n",
    "    y_pred = model.predict(X_test)\n",
    "    roc_auc = None\n",
    "    try:\n",
    "        roc_auc = roc_auc_score(y_test, y_pred)\n",
    "    except Exception as ex:\n",
    "        print(f\"ROC AUC couldn't be calculated for {model.__name__} - {ex}\")\n",
    "    return {\n",
    "        \"model\": model.__class__.__name__,\n",
    "        \"model_obj\": model,\n",
    "        \"train_accuracy\": accuracy_score(\n",
    "            y_train, model.predict(X_train), normalize=True\n",
    "        ),\n",
    "        \"test_accuracy\": accuracy_score(y_test, y_pred, normalize=True),\n",
    "        \"balanced_accuracy\": balanced_accuracy_score(y_test, y_pred),\n",
    "        \"f1_score\": f1_score(y_test, y_pred, average=\"weighted\"),\n",
    "        \"rocauc\": roc_auc,\n",
    "    }"
   ]
  },
  {
   "cell_type": "code",
   "execution_count": 80,
   "metadata": {},
   "outputs": [
    {
     "data": {
      "text/plain": [
       "0.83"
      ]
     },
     "execution_count": 80,
     "metadata": {},
     "output_type": "execute_result"
    }
   ],
   "source": [
    "knn_base_model = KNeighborsClassifier(n_neighbors=5)\n",
    "knn_base_model.fit(X_train, y_train)\n",
    "get_cross_val_score(knn_base_model, X_train, y_train)"
   ]
  },
  {
   "cell_type": "code",
   "execution_count": 81,
   "metadata": {},
   "outputs": [
    {
     "name": "stdout",
     "output_type": "stream",
     "text": [
      "Best parameters: {'n_neighbors': 6, 'weights': 'uniform'}\n",
      "Best score: 0.8457264957264957\n",
      "Cross validation: 0.85\n"
     ]
    }
   ],
   "source": [
    "# hyper paramter tuning\n",
    "\n",
    "# from documentation\n",
    "# uniform: uniform weights. All points in each neighborhood are weighted equally.\n",
    "# distance: weight points by the inverse of their distance.\n",
    "# in this case, closer neighbors of a query point will have a greater influence than neighbors which are further away.\n",
    "\n",
    "param_grid = {\"n_neighbors\": np.arange(5, 20), \"weights\": [\"uniform\", \"distance\"]}\n",
    "\n",
    "knn = KNeighborsClassifier()\n",
    "knn_grid_search = GridSearchCV(knn, param_grid, cv=5)\n",
    "knn_grid_search.fit(X_train, y_train)\n",
    "\n",
    "print(\"Best parameters:\", knn_grid_search.best_params_)\n",
    "print(\"Best score:\", knn_grid_search.best_score_)\n",
    "print(\"Cross validation:\", get_cross_val_score(knn_grid_search.best_estimator_, X_train, y_train))"
   ]
  },
  {
   "cell_type": "code",
   "execution_count": 82,
   "metadata": {},
   "outputs": [
    {
     "data": {
      "text/plain": [
       "0.83"
      ]
     },
     "execution_count": 82,
     "metadata": {},
     "output_type": "execute_result"
    }
   ],
   "source": [
    "ada_base_model = AdaBoostClassifier(random_state=13)\n",
    "ada_base_model.fit(X_train, y_train)\n",
    "get_cross_val_score(ada_base_model, X_train, y_train)"
   ]
  },
  {
   "cell_type": "code",
   "execution_count": 83,
   "metadata": {},
   "outputs": [
    {
     "name": "stdout",
     "output_type": "stream",
     "text": [
      "Best parameters: {'n_estimators': 300, 'learning_rate': 1.0}\n",
      "Best score: 0.8897435897435898\n",
      "Cross validation: 0.89\n"
     ]
    }
   ],
   "source": [
    "param_grid = {\n",
    "    \"n_estimators\": [50, 100, 200, 300],\n",
    "    \"learning_rate\": [0.01, 0.1, 1.0],\n",
    "}\n",
    "\n",
    "ada = AdaBoostClassifier()\n",
    "\n",
    "# Using only RandomSearchCV since Grid search takes more than 15 minutes\n",
    "ada_random_search = RandomizedSearchCV(\n",
    "    ada, param_grid, n_iter=10, cv=5, random_state=13\n",
    ")\n",
    "\n",
    "ada_random_search.fit(X_train, y_train)\n",
    "\n",
    "print(\"Best parameters:\", ada_random_search.best_params_)\n",
    "print(\"Best score:\", ada_random_search.best_score_)\n",
    "print(\"Cross validation:\", get_cross_val_score(ada_random_search.best_estimator_, X_train, y_train))"
   ]
  },
  {
   "cell_type": "code",
   "execution_count": 84,
   "metadata": {},
   "outputs": [
    {
     "data": {
      "text/plain": [
       "0.95"
      ]
     },
     "execution_count": 84,
     "metadata": {},
     "output_type": "execute_result"
    }
   ],
   "source": [
    "rfc_base_model = RandomForestClassifier(random_state=13)\n",
    "rfc_base_model.fit(X_train, y_train)\n",
    "get_cross_val_score(rfc_base_model, X_train, y_train)"
   ]
  },
  {
   "cell_type": "code",
   "execution_count": 85,
   "metadata": {},
   "outputs": [
    {
     "name": "stdout",
     "output_type": "stream",
     "text": [
      "Best parameters: {'n_estimators': 500, 'min_samples_split': 2, 'max_depth': None}\n",
      "Best score: 0.9482905982905983\n",
      "Cross validation: 0.95\n"
     ]
    }
   ],
   "source": [
    "param_grid = {\n",
    "    \"n_estimators\": [100, 200, 300, 400, 500],\n",
    "    \"max_depth\": [None, 5, 10, 15, 20],\n",
    "    \"min_samples_split\": [2, 5, 10],\n",
    "}\n",
    "\n",
    "rfc = RandomForestClassifier()\n",
    "\n",
    "# rfc_grid_search = GridSearchCV(rfc, param_grid, cv=5, return_train_score=True)\n",
    "\n",
    "# Using only RandomSearchCV since Grid search takes more than 15 minutes\n",
    "rfc_random_search = RandomizedSearchCV(rfc, param_grid, n_iter=10, cv=5, return_train_score=True, random_state=13)\n",
    "\n",
    "rfc_random_search.fit(X_train, y_train)\n",
    "\n",
    "print(\"Best parameters:\", rfc_random_search.best_params_)\n",
    "print(\"Best score:\", rfc_random_search.best_score_)\n",
    "print(\"Cross validation:\", get_cross_val_score(rfc_random_search.best_estimator_, X_train, y_train))"
   ]
  },
  {
   "cell_type": "code",
   "execution_count": 86,
   "metadata": {},
   "outputs": [
    {
     "name": "stdout",
     "output_type": "stream",
     "text": [
      "=== CLASSFICATION REPORT FOR KNeighborsClassifier ===\n",
      "              precision    recall  f1-score   support\n",
      "\n",
      "           0       0.99      0.76      0.86       293\n",
      "           1       0.81      0.99      0.89       293\n",
      "\n",
      "    accuracy                           0.88       586\n",
      "   macro avg       0.90      0.88      0.88       586\n",
      "weighted avg       0.90      0.88      0.88       586\n",
      "\n",
      "=== CLASSFICATION REPORT FOR AdaBoostClassifier ===\n",
      "              precision    recall  f1-score   support\n",
      "\n",
      "           0       0.89      0.86      0.87       293\n",
      "           1       0.86      0.89      0.88       293\n",
      "\n",
      "    accuracy                           0.88       586\n",
      "   macro avg       0.88      0.88      0.88       586\n",
      "weighted avg       0.88      0.88      0.88       586\n",
      "\n",
      "=== CLASSFICATION REPORT FOR RandomForestClassifier ===\n",
      "              precision    recall  f1-score   support\n",
      "\n",
      "           0       0.97      0.96      0.96       293\n",
      "           1       0.96      0.97      0.96       293\n",
      "\n",
      "    accuracy                           0.96       586\n",
      "   macro avg       0.96      0.96      0.96       586\n",
      "weighted avg       0.96      0.96      0.96       586\n",
      "\n"
     ]
    }
   ],
   "source": [
    "# This will hold the result of the tuned candidate models\n",
    "# contents will be\n",
    "# model name, model object, train accuracy, test accuracy, balanced accuracy, F1 score, ROC-AUC score\n",
    "results = []\n",
    "for search_result in [knn_grid_search, ada_random_search, rfc_random_search]:\n",
    "\tbest_model = search_result.best_estimator_\n",
    "\tresults.append(get_report(best_model, X_train, y_train, X_test, y_test))\n",
    "\ty_pred = best_model.predict(X_test)\n",
    "\tprint(f\"=== CLASSFICATION REPORT FOR {best_model.__class__.__name__} ===\")\n",
    "\tprint(classification_report(y_test, y_pred))"
   ]
  },
  {
   "attachments": {},
   "cell_type": "markdown",
   "metadata": {},
   "source": [
    "**Observation**\n",
    "\n",
    "- K-Nearest Neighbour classifier performance is better than one observed in Ada Boost classifier\n",
    "- Random Forest gives the best performance amongst all the candidate models\n",
    "- The weighted average results of Random forest is 0.96 which quite good.\n",
    "- Since the classes are balanced, the precision and recall scores of both the classes are almost similar\n",
    "    - There is an exception in the case of KNeighbors where the precision score of class 0 is high and recall score of class 1 is higher than class 0."
   ]
  },
  {
   "attachments": {},
   "cell_type": "markdown",
   "metadata": {},
   "source": [
    "### Post Training and Conclusion"
   ]
  },
  {
   "cell_type": "code",
   "execution_count": 87,
   "metadata": {},
   "outputs": [
    {
     "data": {
      "text/html": [
       "<div>\n",
       "<style scoped>\n",
       "    .dataframe tbody tr th:only-of-type {\n",
       "        vertical-align: middle;\n",
       "    }\n",
       "\n",
       "    .dataframe tbody tr th {\n",
       "        vertical-align: top;\n",
       "    }\n",
       "\n",
       "    .dataframe thead th {\n",
       "        text-align: right;\n",
       "    }\n",
       "</style>\n",
       "<table border=\"1\" class=\"dataframe\">\n",
       "  <thead>\n",
       "    <tr style=\"text-align: right;\">\n",
       "      <th></th>\n",
       "      <th>model</th>\n",
       "      <th>model_obj</th>\n",
       "      <th>train_accuracy</th>\n",
       "      <th>test_accuracy</th>\n",
       "      <th>balanced_accuracy</th>\n",
       "      <th>f1_score</th>\n",
       "      <th>rocauc</th>\n",
       "    </tr>\n",
       "  </thead>\n",
       "  <tbody>\n",
       "    <tr>\n",
       "      <th>2</th>\n",
       "      <td>RandomForestClassifier</td>\n",
       "      <td>(DecisionTreeClassifier(max_features='sqrt', r...</td>\n",
       "      <td>1.000000</td>\n",
       "      <td>0.962457</td>\n",
       "      <td>0.962457</td>\n",
       "      <td>0.962456</td>\n",
       "      <td>0.962457</td>\n",
       "    </tr>\n",
       "    <tr>\n",
       "      <th>0</th>\n",
       "      <td>KNeighborsClassifier</td>\n",
       "      <td>KNeighborsClassifier(n_neighbors=6)</td>\n",
       "      <td>0.903419</td>\n",
       "      <td>0.877133</td>\n",
       "      <td>0.877133</td>\n",
       "      <td>0.875456</td>\n",
       "      <td>0.877133</td>\n",
       "    </tr>\n",
       "    <tr>\n",
       "      <th>1</th>\n",
       "      <td>AdaBoostClassifier</td>\n",
       "      <td>(DecisionTreeClassifier(max_depth=1, random_st...</td>\n",
       "      <td>0.954701</td>\n",
       "      <td>0.875427</td>\n",
       "      <td>0.875427</td>\n",
       "      <td>0.875397</td>\n",
       "      <td>0.875427</td>\n",
       "    </tr>\n",
       "  </tbody>\n",
       "</table>\n",
       "</div>"
      ],
      "text/plain": [
       "                    model                                          model_obj  \\\n",
       "2  RandomForestClassifier  (DecisionTreeClassifier(max_features='sqrt', r...   \n",
       "0    KNeighborsClassifier                KNeighborsClassifier(n_neighbors=6)   \n",
       "1      AdaBoostClassifier  (DecisionTreeClassifier(max_depth=1, random_st...   \n",
       "\n",
       "   train_accuracy  test_accuracy  balanced_accuracy  f1_score    rocauc  \n",
       "2        1.000000       0.962457           0.962457  0.962456  0.962457  \n",
       "0        0.903419       0.877133           0.877133  0.875456  0.877133  \n",
       "1        0.954701       0.875427           0.875427  0.875397  0.875427  "
      ]
     },
     "execution_count": 87,
     "metadata": {},
     "output_type": "execute_result"
    }
   ],
   "source": [
    "result_df = pd.DataFrame(results)\n",
    "result_df.sort_values(by=[\"rocauc\"], ascending=False)"
   ]
  },
  {
   "attachments": {},
   "cell_type": "markdown",
   "metadata": {},
   "source": [
    "The ROC-AUC score provides a simple summary of the performance of a classifier by plotting the true positive rate against the false positive rate and measuring the area under the curve. ROC-AUC can be a good indicator of the model's performance since it considers both the true positive and false positive rates, providing a more comprehensive picture of the model's accuracy. This can be helpful in better predict the yield type in the process.\n",
    "\n",
    "In this case it is the **RandomForestClassifier** which performs well in not only the ROC-AUC score but in terms of the other metrics as well."
   ]
  },
  {
   "cell_type": "code",
   "execution_count": 89,
   "metadata": {},
   "outputs": [],
   "source": [
    "# import pickle\n",
    "\n",
    "# chosen_model = \"RandomForestClassifier\"\n",
    "# chosen_model_obj = result_df[result_df[\"model\"] == chosen_model][\"model_obj\"]\n",
    "# with open(f\"model/{chosen_model}.pkl\", \"wb\") as file:\n",
    "#     pickle.dump(result_df[result_df[\"model\"] == chosen_model][\"model_obj\"], file)\n",
    "# print(f\"{chosen_model} model saved\")"
   ]
  },
  {
   "attachments": {},
   "cell_type": "markdown",
   "metadata": {},
   "source": [
    "**Observation and Conclusion**\n",
    "\n",
    "- RandomForestClassifier base model performance is on par with other tuned candiate models.\n",
    "- Hyper parameter tuning has increased model performance a little in these. This could be because of lot of reasons including not exploring the entire grid space of all possible parameters and settling with **RandomSearchCV** in interest of time.\n",
    "- Standardising the dataset and using balancing techniques helps a lot.\n",
    "- The cross validation score helps in estimating how well the model will generalize to unseen data."
   ]
  }
 ],
 "metadata": {
  "kernelspec": {
   "display_name": "fmt-assignment-hQ895iHY-py3.10",
   "language": "python",
   "name": "python3"
  },
  "language_info": {
   "codemirror_mode": {
    "name": "ipython",
    "version": 3
   },
   "file_extension": ".py",
   "mimetype": "text/x-python",
   "name": "python",
   "nbconvert_exporter": "python",
   "pygments_lexer": "ipython3",
   "version": "3.10.6"
  },
  "orig_nbformat": 4,
  "vscode": {
   "interpreter": {
    "hash": "531b5d9060116447b6df6942718a9a2fe33a42156616235e522046e09320cf8b"
   }
  }
 },
 "nbformat": 4,
 "nbformat_minor": 2
}
